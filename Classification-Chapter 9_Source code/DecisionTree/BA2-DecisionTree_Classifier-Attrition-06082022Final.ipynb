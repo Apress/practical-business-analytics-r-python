{
 "cells": [
  {
   "cell_type": "code",
   "execution_count": 1,
   "metadata": {},
   "outputs": [],
   "source": [
    "#  Objective: To predict Attrition in an orgnization based on different parameters\n",
    "#  Dataset: Dataset consits of 1 target dependent variable \"Attrition\". Attrition is either Yes or NO.\n",
    "#  Data Description: There are 10 variables influencing the 'Attrition'. They are as foolows:\n",
    "#                 YrsExp, WorkChallenging, WorkEnvir, Compensation,\n",
    "#                 TechExper, maritalstatus, education, children, ownhouse, loan\n",
    "#                 Each variable is self explanatory. All the variables, except YearsOfExperience, are categorical.\n",
    "#  Algorithm: In this execrice we are using Decision Tree supervised learning algorithm to predict 'Attrition' \n",
    "#  \n"
   ]
  },
  {
   "cell_type": "raw",
   "metadata": {},
   "source": [
    "Step 0: Import all the libraries required to the jupyter environment"
   ]
  },
  {
   "cell_type": "code",
   "execution_count": 2,
   "metadata": {},
   "outputs": [],
   "source": [
    "\n",
    "from __future__ import absolute_import, division, print_function\n",
    "import codecs\n",
    "import glob\n",
    "import logging\n",
    "import multiprocessing\n",
    "import os\n",
    "import pprint\n",
    "import re\n",
    "\n",
    "##Load pandas and numpy library \n",
    "import pandas as pd\n",
    "import numpy as np\n",
    "\n",
    "\n",
    "## Loading plot libraries\n",
    "%matplotlib inline\n",
    "import matplotlib.pyplot as plt\n",
    "from pandas.plotting import scatter_matrix\n",
    "from sklearn.metrics.pairwise import cosine_similarity\n",
    "from scipy.spatial.distance import cosine\n",
    "import sklearn as sk\n",
    "import matplotlib.pyplot as plt\n",
    "import seaborn as sns\n",
    "\n",
    "\n",
    "# Preprocessing libraries\n",
    "from sklearn.model_selection import train_test_split\n",
    "from sklearn.preprocessing import scale \n",
    "from sklearn.model_selection import train_test_split\n",
    "\n",
    "############# Load Decision Tree library\n",
    "from sklearn.tree import DecisionTreeClassifier\n",
    "from sklearn import model_selection\n",
    "\n",
    "##Measuring Accuracy of the Model\n",
    "#Import scikit-learn metrics module for accuracy calculation\n",
    "\n",
    "from sklearn.metrics import roc_auc_score\n",
    "from sklearn.metrics import roc_curve\n",
    "from sklearn.metrics import classification_report\n",
    "from sklearn.metrics import confusion_matrix\n",
    "from sklearn import metrics\n",
    "from sklearn.metrics import roc_curve\n",
    "from sklearn.metrics import auc\n",
    "#https://scikit-learn.org/stable/modules/generated/sklearn.tree.DecisionTreeClassifier.html\n",
    "    "
   ]
  },
  {
   "cell_type": "markdown",
   "metadata": {},
   "source": [
    "# Step 1: Reading data"
   ]
  },
  {
   "cell_type": "code",
   "execution_count": 4,
   "metadata": {},
   "outputs": [
    {
     "data": {
      "text/html": [
       "<div>\n",
       "<style scoped>\n",
       "    .dataframe tbody tr th:only-of-type {\n",
       "        vertical-align: middle;\n",
       "    }\n",
       "\n",
       "    .dataframe tbody tr th {\n",
       "        vertical-align: top;\n",
       "    }\n",
       "\n",
       "    .dataframe thead th {\n",
       "        text-align: right;\n",
       "    }\n",
       "</style>\n",
       "<table border=\"1\" class=\"dataframe\">\n",
       "  <thead>\n",
       "    <tr style=\"text-align: right;\">\n",
       "      <th></th>\n",
       "      <th>Attrition</th>\n",
       "      <th>YrsExp</th>\n",
       "      <th>WorkChallenging</th>\n",
       "      <th>WorkEnvir</th>\n",
       "      <th>Compensation</th>\n",
       "      <th>TechExper</th>\n",
       "      <th>maritalstatus</th>\n",
       "      <th>education</th>\n",
       "      <th>children</th>\n",
       "      <th>ownhouse</th>\n",
       "      <th>loan</th>\n",
       "    </tr>\n",
       "  </thead>\n",
       "  <tbody>\n",
       "    <tr>\n",
       "      <th>0</th>\n",
       "      <td>Yes</td>\n",
       "      <td>2.5</td>\n",
       "      <td>No</td>\n",
       "      <td>Low</td>\n",
       "      <td>Low</td>\n",
       "      <td>Excellent</td>\n",
       "      <td>married</td>\n",
       "      <td>undergraduate</td>\n",
       "      <td>no</td>\n",
       "      <td>no</td>\n",
       "      <td>no</td>\n",
       "    </tr>\n",
       "    <tr>\n",
       "      <th>1</th>\n",
       "      <td>No</td>\n",
       "      <td>2.0</td>\n",
       "      <td>Yes</td>\n",
       "      <td>Excellent</td>\n",
       "      <td>Excellent</td>\n",
       "      <td>Excellent</td>\n",
       "      <td>married</td>\n",
       "      <td>graduate</td>\n",
       "      <td>no</td>\n",
       "      <td>yes</td>\n",
       "      <td>yes</td>\n",
       "    </tr>\n",
       "    <tr>\n",
       "      <th>2</th>\n",
       "      <td>No</td>\n",
       "      <td>2.5</td>\n",
       "      <td>Yes</td>\n",
       "      <td>Excellent</td>\n",
       "      <td>Low</td>\n",
       "      <td>Excellent</td>\n",
       "      <td>single</td>\n",
       "      <td>graduate</td>\n",
       "      <td>no</td>\n",
       "      <td>yes</td>\n",
       "      <td>no</td>\n",
       "    </tr>\n",
       "    <tr>\n",
       "      <th>3</th>\n",
       "      <td>Yes</td>\n",
       "      <td>2.0</td>\n",
       "      <td>No</td>\n",
       "      <td>Excellent</td>\n",
       "      <td>Low</td>\n",
       "      <td>Excellent</td>\n",
       "      <td>married</td>\n",
       "      <td>graduate</td>\n",
       "      <td>no</td>\n",
       "      <td>yes</td>\n",
       "      <td>yes</td>\n",
       "    </tr>\n",
       "    <tr>\n",
       "      <th>4</th>\n",
       "      <td>No</td>\n",
       "      <td>2.0</td>\n",
       "      <td>Yes</td>\n",
       "      <td>Low</td>\n",
       "      <td>Low</td>\n",
       "      <td>Low</td>\n",
       "      <td>married</td>\n",
       "      <td>undergraduate</td>\n",
       "      <td>no</td>\n",
       "      <td>yes</td>\n",
       "      <td>no</td>\n",
       "    </tr>\n",
       "  </tbody>\n",
       "</table>\n",
       "</div>"
      ],
      "text/plain": [
       "  Attrition  YrsExp WorkChallenging  WorkEnvir Compensation  TechExper  \\\n",
       "0       Yes     2.5              No        Low          Low  Excellent   \n",
       "1        No     2.0             Yes  Excellent    Excellent  Excellent   \n",
       "2        No     2.5             Yes  Excellent          Low  Excellent   \n",
       "3       Yes     2.0              No  Excellent          Low  Excellent   \n",
       "4        No     2.0             Yes        Low          Low        Low   \n",
       "\n",
       "  maritalstatus      education children ownhouse loan  \n",
       "0       married  undergraduate       no       no   no  \n",
       "1       married       graduate       no      yes  yes  \n",
       "2        single       graduate       no      yes   no  \n",
       "3       married       graduate       no      yes  yes  \n",
       "4       married  undergraduate       no      yes   no  "
      ]
     },
     "execution_count": 4,
     "metadata": {},
     "output_type": "execute_result"
    }
   ],
   "source": [
    "#Set the working directory where the dataset is stored before reading the dataset\n",
    "data_dir = 'E:/Umesh-MAY2022/Personal-May2022/BA2ndEdition/2ndEdition/Book Chapters/Chapter 9 - Pred-Classification/Code/DecisionTree'\n",
    "os.chdir(data_dir)\n",
    "attrData_df = pd.read_csv(\"attrdataDecisionTree.csv\")\n",
    "attrData_df.head()"
   ]
  },
  {
   "cell_type": "code",
   "execution_count": 6,
   "metadata": {},
   "outputs": [],
   "source": [
    "##COpy data to another variable as abackup. \n",
    "X = attrData_df.copy()"
   ]
  },
  {
   "cell_type": "code",
   "execution_count": 7,
   "metadata": {},
   "outputs": [
    {
     "data": {
      "text/html": [
       "<div>\n",
       "<style scoped>\n",
       "    .dataframe tbody tr th:only-of-type {\n",
       "        vertical-align: middle;\n",
       "    }\n",
       "\n",
       "    .dataframe tbody tr th {\n",
       "        vertical-align: top;\n",
       "    }\n",
       "\n",
       "    .dataframe thead th {\n",
       "        text-align: right;\n",
       "    }\n",
       "</style>\n",
       "<table border=\"1\" class=\"dataframe\">\n",
       "  <thead>\n",
       "    <tr style=\"text-align: right;\">\n",
       "      <th></th>\n",
       "      <th>Attrition</th>\n",
       "      <th>YrsExp</th>\n",
       "      <th>WorkChallenging</th>\n",
       "      <th>WorkEnvir</th>\n",
       "      <th>Compensation</th>\n",
       "      <th>TechExper</th>\n",
       "      <th>maritalstatus</th>\n",
       "      <th>education</th>\n",
       "      <th>children</th>\n",
       "      <th>ownhouse</th>\n",
       "      <th>loan</th>\n",
       "    </tr>\n",
       "  </thead>\n",
       "  <tbody>\n",
       "    <tr>\n",
       "      <th>0</th>\n",
       "      <td>Yes</td>\n",
       "      <td>2.5</td>\n",
       "      <td>No</td>\n",
       "      <td>Low</td>\n",
       "      <td>Low</td>\n",
       "      <td>Excellent</td>\n",
       "      <td>married</td>\n",
       "      <td>undergraduate</td>\n",
       "      <td>no</td>\n",
       "      <td>no</td>\n",
       "      <td>no</td>\n",
       "    </tr>\n",
       "    <tr>\n",
       "      <th>1</th>\n",
       "      <td>No</td>\n",
       "      <td>2.0</td>\n",
       "      <td>Yes</td>\n",
       "      <td>Excellent</td>\n",
       "      <td>Excellent</td>\n",
       "      <td>Excellent</td>\n",
       "      <td>married</td>\n",
       "      <td>graduate</td>\n",
       "      <td>no</td>\n",
       "      <td>yes</td>\n",
       "      <td>yes</td>\n",
       "    </tr>\n",
       "    <tr>\n",
       "      <th>2</th>\n",
       "      <td>No</td>\n",
       "      <td>2.5</td>\n",
       "      <td>Yes</td>\n",
       "      <td>Excellent</td>\n",
       "      <td>Low</td>\n",
       "      <td>Excellent</td>\n",
       "      <td>single</td>\n",
       "      <td>graduate</td>\n",
       "      <td>no</td>\n",
       "      <td>yes</td>\n",
       "      <td>no</td>\n",
       "    </tr>\n",
       "    <tr>\n",
       "      <th>3</th>\n",
       "      <td>Yes</td>\n",
       "      <td>2.0</td>\n",
       "      <td>No</td>\n",
       "      <td>Excellent</td>\n",
       "      <td>Low</td>\n",
       "      <td>Excellent</td>\n",
       "      <td>married</td>\n",
       "      <td>graduate</td>\n",
       "      <td>no</td>\n",
       "      <td>yes</td>\n",
       "      <td>yes</td>\n",
       "    </tr>\n",
       "    <tr>\n",
       "      <th>4</th>\n",
       "      <td>No</td>\n",
       "      <td>2.0</td>\n",
       "      <td>Yes</td>\n",
       "      <td>Low</td>\n",
       "      <td>Low</td>\n",
       "      <td>Low</td>\n",
       "      <td>married</td>\n",
       "      <td>undergraduate</td>\n",
       "      <td>no</td>\n",
       "      <td>yes</td>\n",
       "      <td>no</td>\n",
       "    </tr>\n",
       "  </tbody>\n",
       "</table>\n",
       "</div>"
      ],
      "text/plain": [
       "  Attrition  YrsExp WorkChallenging  WorkEnvir Compensation  TechExper  \\\n",
       "0       Yes     2.5              No        Low          Low  Excellent   \n",
       "1        No     2.0             Yes  Excellent    Excellent  Excellent   \n",
       "2        No     2.5             Yes  Excellent          Low  Excellent   \n",
       "3       Yes     2.0              No  Excellent          Low  Excellent   \n",
       "4        No     2.0             Yes        Low          Low        Low   \n",
       "\n",
       "  maritalstatus      education children ownhouse loan  \n",
       "0       married  undergraduate       no       no   no  \n",
       "1       married       graduate       no      yes  yes  \n",
       "2        single       graduate       no      yes   no  \n",
       "3       married       graduate       no      yes  yes  \n",
       "4       married  undergraduate       no      yes   no  "
      ]
     },
     "execution_count": 7,
     "metadata": {},
     "output_type": "execute_result"
    }
   ],
   "source": [
    "X.head()"
   ]
  },
  {
   "cell_type": "markdown",
   "metadata": {},
   "source": [
    "# Step 2: Data exploration, data preparation"
   ]
  },
  {
   "cell_type": "code",
   "execution_count": 8,
   "metadata": {},
   "outputs": [],
   "source": [
    "##Check the data types, missing values, etc"
   ]
  },
  {
   "cell_type": "code",
   "execution_count": 9,
   "metadata": {},
   "outputs": [],
   "source": [
    "##Use LabeEncoder to code Target variable 'Attrition'\n",
    "# Converting string labels into numbers.\n",
    "from sklearn.preprocessing import LabelEncoder\n",
    "encoder = LabelEncoder()\n",
    "X[['Attrition','WorkChallenging',\n",
    "          'WorkEnvir','Compensation',\n",
    "          'TechExper', 'maritalstatus','education',\n",
    "           'children','ownhouse','loan']] = X[['Attrition','WorkChallenging',\n",
    "          'WorkEnvir','Compensation',\n",
    "          'TechExper', 'maritalstatus','education',\n",
    "           'children','ownhouse','loan']].apply(encoder.fit_transform)"
   ]
  },
  {
   "cell_type": "code",
   "execution_count": 10,
   "metadata": {},
   "outputs": [
    {
     "data": {
      "text/html": [
       "<div>\n",
       "<style scoped>\n",
       "    .dataframe tbody tr th:only-of-type {\n",
       "        vertical-align: middle;\n",
       "    }\n",
       "\n",
       "    .dataframe tbody tr th {\n",
       "        vertical-align: top;\n",
       "    }\n",
       "\n",
       "    .dataframe thead th {\n",
       "        text-align: right;\n",
       "    }\n",
       "</style>\n",
       "<table border=\"1\" class=\"dataframe\">\n",
       "  <thead>\n",
       "    <tr style=\"text-align: right;\">\n",
       "      <th></th>\n",
       "      <th>Attrition</th>\n",
       "      <th>YrsExp</th>\n",
       "      <th>WorkChallenging</th>\n",
       "      <th>WorkEnvir</th>\n",
       "      <th>Compensation</th>\n",
       "      <th>TechExper</th>\n",
       "      <th>maritalstatus</th>\n",
       "      <th>education</th>\n",
       "      <th>children</th>\n",
       "      <th>ownhouse</th>\n",
       "      <th>loan</th>\n",
       "    </tr>\n",
       "  </thead>\n",
       "  <tbody>\n",
       "    <tr>\n",
       "      <th>0</th>\n",
       "      <td>1</td>\n",
       "      <td>2.5</td>\n",
       "      <td>0</td>\n",
       "      <td>1</td>\n",
       "      <td>1</td>\n",
       "      <td>0</td>\n",
       "      <td>1</td>\n",
       "      <td>1</td>\n",
       "      <td>0</td>\n",
       "      <td>0</td>\n",
       "      <td>0</td>\n",
       "    </tr>\n",
       "    <tr>\n",
       "      <th>1</th>\n",
       "      <td>0</td>\n",
       "      <td>2.0</td>\n",
       "      <td>1</td>\n",
       "      <td>0</td>\n",
       "      <td>0</td>\n",
       "      <td>0</td>\n",
       "      <td>1</td>\n",
       "      <td>0</td>\n",
       "      <td>0</td>\n",
       "      <td>1</td>\n",
       "      <td>1</td>\n",
       "    </tr>\n",
       "    <tr>\n",
       "      <th>2</th>\n",
       "      <td>0</td>\n",
       "      <td>2.5</td>\n",
       "      <td>1</td>\n",
       "      <td>0</td>\n",
       "      <td>1</td>\n",
       "      <td>0</td>\n",
       "      <td>2</td>\n",
       "      <td>0</td>\n",
       "      <td>0</td>\n",
       "      <td>1</td>\n",
       "      <td>0</td>\n",
       "    </tr>\n",
       "    <tr>\n",
       "      <th>3</th>\n",
       "      <td>1</td>\n",
       "      <td>2.0</td>\n",
       "      <td>0</td>\n",
       "      <td>0</td>\n",
       "      <td>1</td>\n",
       "      <td>0</td>\n",
       "      <td>1</td>\n",
       "      <td>0</td>\n",
       "      <td>0</td>\n",
       "      <td>1</td>\n",
       "      <td>1</td>\n",
       "    </tr>\n",
       "    <tr>\n",
       "      <th>4</th>\n",
       "      <td>0</td>\n",
       "      <td>2.0</td>\n",
       "      <td>1</td>\n",
       "      <td>1</td>\n",
       "      <td>1</td>\n",
       "      <td>1</td>\n",
       "      <td>1</td>\n",
       "      <td>1</td>\n",
       "      <td>0</td>\n",
       "      <td>1</td>\n",
       "      <td>0</td>\n",
       "    </tr>\n",
       "  </tbody>\n",
       "</table>\n",
       "</div>"
      ],
      "text/plain": [
       "   Attrition  YrsExp  WorkChallenging  WorkEnvir  Compensation  TechExper  \\\n",
       "0          1     2.5                0          1             1          0   \n",
       "1          0     2.0                1          0             0          0   \n",
       "2          0     2.5                1          0             1          0   \n",
       "3          1     2.0                0          0             1          0   \n",
       "4          0     2.0                1          1             1          1   \n",
       "\n",
       "   maritalstatus  education  children  ownhouse  loan  \n",
       "0              1          1         0         0     0  \n",
       "1              1          0         0         1     1  \n",
       "2              2          0         0         1     0  \n",
       "3              1          0         0         1     1  \n",
       "4              1          1         0         1     0  "
      ]
     },
     "execution_count": 10,
     "metadata": {},
     "output_type": "execute_result"
    }
   ],
   "source": [
    "X.head()"
   ]
  },
  {
   "cell_type": "code",
   "execution_count": 11,
   "metadata": {},
   "outputs": [
    {
     "name": "stdout",
     "output_type": "stream",
     "text": [
      "<class 'pandas.core.frame.DataFrame'>\n",
      "RangeIndex: 208 entries, 0 to 207\n",
      "Data columns (total 11 columns):\n",
      " #   Column           Non-Null Count  Dtype  \n",
      "---  ------           --------------  -----  \n",
      " 0   Attrition        208 non-null    int32  \n",
      " 1   YrsExp           208 non-null    float64\n",
      " 2   WorkChallenging  208 non-null    int32  \n",
      " 3   WorkEnvir        208 non-null    int32  \n",
      " 4   Compensation     208 non-null    int32  \n",
      " 5   TechExper        208 non-null    int32  \n",
      " 6   maritalstatus    208 non-null    int32  \n",
      " 7   education        208 non-null    int32  \n",
      " 8   children         208 non-null    int32  \n",
      " 9   ownhouse         208 non-null    int32  \n",
      " 10  loan             208 non-null    int32  \n",
      "dtypes: float64(1), int32(10)\n",
      "memory usage: 9.9 KB\n"
     ]
    }
   ],
   "source": [
    "#Check variable data types and convert to appropriate types\n",
    "X.info()"
   ]
  },
  {
   "cell_type": "code",
   "execution_count": 12,
   "metadata": {},
   "outputs": [],
   "source": [
    "cat_vars = ['Attrition','WorkChallenging',\n",
    "   'WorkEnvir','Compensation',\n",
    "   'TechExper', 'maritalstatus','education',\n",
    "   'children','ownhouse','loan']\n",
    "for var in cat_vars:\n",
    "    X[var] = X[var].astype('category',copy=False)"
   ]
  },
  {
   "cell_type": "code",
   "execution_count": 13,
   "metadata": {},
   "outputs": [
    {
     "data": {
      "text/plain": [
       "Attrition          category\n",
       "YrsExp              float64\n",
       "WorkChallenging    category\n",
       "WorkEnvir          category\n",
       "Compensation       category\n",
       "TechExper          category\n",
       "maritalstatus      category\n",
       "education          category\n",
       "children           category\n",
       "ownhouse           category\n",
       "loan               category\n",
       "dtype: object"
      ]
     },
     "execution_count": 13,
     "metadata": {},
     "output_type": "execute_result"
    }
   ],
   "source": [
    "X.dtypes"
   ]
  },
  {
   "cell_type": "code",
   "execution_count": 14,
   "metadata": {},
   "outputs": [],
   "source": [
    "##Check how the data is distributed. "
   ]
  },
  {
   "cell_type": "code",
   "execution_count": 15,
   "metadata": {},
   "outputs": [
    {
     "data": {
      "text/plain": [
       "1    112\n",
       "0     96\n",
       "Name: Attrition, dtype: int64"
      ]
     },
     "execution_count": 15,
     "metadata": {},
     "output_type": "execute_result"
    }
   ],
   "source": [
    "X.Attrition.value_counts()"
   ]
  },
  {
   "cell_type": "code",
   "execution_count": 16,
   "metadata": {},
   "outputs": [
    {
     "data": {
      "text/plain": [
       "0    112\n",
       "1     96\n",
       "Name: WorkChallenging, dtype: int64"
      ]
     },
     "execution_count": 16,
     "metadata": {},
     "output_type": "execute_result"
    }
   ],
   "source": [
    "X.WorkChallenging.value_counts()"
   ]
  },
  {
   "cell_type": "code",
   "execution_count": 17,
   "metadata": {},
   "outputs": [
    {
     "data": {
      "text/plain": [
       "0    176\n",
       "1     32\n",
       "Name: TechExper, dtype: int64"
      ]
     },
     "execution_count": 17,
     "metadata": {},
     "output_type": "execute_result"
    }
   ],
   "source": [
    "X.TechExper.value_counts()"
   ]
  },
  {
   "cell_type": "code",
   "execution_count": 18,
   "metadata": {},
   "outputs": [
    {
     "data": {
      "text/plain": [
       "1    124\n",
       "0     84\n",
       "Name: Compensation, dtype: int64"
      ]
     },
     "execution_count": 18,
     "metadata": {},
     "output_type": "execute_result"
    }
   ],
   "source": [
    "X.Compensation.value_counts()"
   ]
  },
  {
   "cell_type": "code",
   "execution_count": 20,
   "metadata": {},
   "outputs": [],
   "source": [
    "##Prepare data for the sklearn decisiontree function(). We need to separate X and Y parameters"
   ]
  },
  {
   "cell_type": "code",
   "execution_count": 21,
   "metadata": {},
   "outputs": [],
   "source": [
    "X_NoAttrVar = X.drop(columns='Attrition')\n",
    "Y = X['Attrition']"
   ]
  },
  {
   "cell_type": "code",
   "execution_count": 22,
   "metadata": {},
   "outputs": [
    {
     "data": {
      "text/html": [
       "<div>\n",
       "<style scoped>\n",
       "    .dataframe tbody tr th:only-of-type {\n",
       "        vertical-align: middle;\n",
       "    }\n",
       "\n",
       "    .dataframe tbody tr th {\n",
       "        vertical-align: top;\n",
       "    }\n",
       "\n",
       "    .dataframe thead th {\n",
       "        text-align: right;\n",
       "    }\n",
       "</style>\n",
       "<table border=\"1\" class=\"dataframe\">\n",
       "  <thead>\n",
       "    <tr style=\"text-align: right;\">\n",
       "      <th></th>\n",
       "      <th>YrsExp</th>\n",
       "      <th>WorkChallenging</th>\n",
       "      <th>WorkEnvir</th>\n",
       "      <th>Compensation</th>\n",
       "      <th>TechExper</th>\n",
       "      <th>maritalstatus</th>\n",
       "      <th>education</th>\n",
       "      <th>children</th>\n",
       "      <th>ownhouse</th>\n",
       "      <th>loan</th>\n",
       "    </tr>\n",
       "  </thead>\n",
       "  <tbody>\n",
       "    <tr>\n",
       "      <th>0</th>\n",
       "      <td>2.5</td>\n",
       "      <td>0</td>\n",
       "      <td>1</td>\n",
       "      <td>1</td>\n",
       "      <td>0</td>\n",
       "      <td>1</td>\n",
       "      <td>1</td>\n",
       "      <td>0</td>\n",
       "      <td>0</td>\n",
       "      <td>0</td>\n",
       "    </tr>\n",
       "    <tr>\n",
       "      <th>1</th>\n",
       "      <td>2.0</td>\n",
       "      <td>1</td>\n",
       "      <td>0</td>\n",
       "      <td>0</td>\n",
       "      <td>0</td>\n",
       "      <td>1</td>\n",
       "      <td>0</td>\n",
       "      <td>0</td>\n",
       "      <td>1</td>\n",
       "      <td>1</td>\n",
       "    </tr>\n",
       "  </tbody>\n",
       "</table>\n",
       "</div>"
      ],
      "text/plain": [
       "   YrsExp WorkChallenging WorkEnvir Compensation TechExper maritalstatus  \\\n",
       "0     2.5               0         1            1         0             1   \n",
       "1     2.0               1         0            0         0             1   \n",
       "\n",
       "  education children ownhouse loan  \n",
       "0         1        0        0    0  \n",
       "1         0        0        1    1  "
      ]
     },
     "execution_count": 22,
     "metadata": {},
     "output_type": "execute_result"
    }
   ],
   "source": [
    "X_NoAttrVar.head(2)"
   ]
  },
  {
   "cell_type": "code",
   "execution_count": 23,
   "metadata": {},
   "outputs": [
    {
     "data": {
      "text/plain": [
       "0    1\n",
       "1    0\n",
       "Name: Attrition, dtype: category\n",
       "Categories (2, int64): [0, 1]"
      ]
     },
     "execution_count": 23,
     "metadata": {},
     "output_type": "execute_result"
    }
   ],
   "source": [
    "Y.head(2)"
   ]
  },
  {
   "cell_type": "code",
   "execution_count": 34,
   "metadata": {},
   "outputs": [],
   "source": [
    "#Step 3: Split data into Train and Test"
   ]
  },
  {
   "cell_type": "code",
   "execution_count": 24,
   "metadata": {},
   "outputs": [],
   "source": [
    "# Split dataset into training set and test set. We will use sklearn train_test_split() function\n",
    "X_train, X_test, y_train, y_test = train_test_split(X_NoAttrVar, Y, train_size = 0.8,\n",
    "                                    random_state=1) \n",
    "# 80% training and 20% test"
   ]
  },
  {
   "cell_type": "code",
   "execution_count": 25,
   "metadata": {},
   "outputs": [
    {
     "data": {
      "text/plain": [
       "(166, 10)"
      ]
     },
     "execution_count": 25,
     "metadata": {},
     "output_type": "execute_result"
    }
   ],
   "source": [
    "X_train.shape"
   ]
  },
  {
   "cell_type": "code",
   "execution_count": 26,
   "metadata": {},
   "outputs": [
    {
     "data": {
      "text/plain": [
       "(166,)"
      ]
     },
     "execution_count": 26,
     "metadata": {},
     "output_type": "execute_result"
    }
   ],
   "source": [
    "y_train.shape"
   ]
  },
  {
   "cell_type": "code",
   "execution_count": 27,
   "metadata": {},
   "outputs": [
    {
     "data": {
      "text/plain": [
       "(42, 10)"
      ]
     },
     "execution_count": 27,
     "metadata": {},
     "output_type": "execute_result"
    }
   ],
   "source": [
    "X_test.shape"
   ]
  },
  {
   "cell_type": "code",
   "execution_count": 28,
   "metadata": {},
   "outputs": [
    {
     "data": {
      "text/plain": [
       "(42,)"
      ]
     },
     "execution_count": 28,
     "metadata": {},
     "output_type": "execute_result"
    }
   ],
   "source": [
    "y_test.shape"
   ]
  },
  {
   "cell_type": "raw",
   "metadata": {},
   "source": [
    "Step 4: Create Decision Tree model"
   ]
  },
  {
   "cell_type": "markdown",
   "metadata": {},
   "source": [
    "# Creating DecisionTree Model"
   ]
  },
  {
   "cell_type": "code",
   "execution_count": 29,
   "metadata": {},
   "outputs": [],
   "source": [
    "dec_model= DecisionTreeClassifier(random_state=10, \n",
    "                                  criterion=\"entropy\", \n",
    "                                  max_depth=10)"
   ]
  },
  {
   "cell_type": "code",
   "execution_count": 30,
   "metadata": {},
   "outputs": [],
   "source": [
    "dec_model_fit = dec_model.fit(X_train, y_train) ## Train the model"
   ]
  },
  {
   "cell_type": "code",
   "execution_count": 31,
   "metadata": {},
   "outputs": [
    {
     "data": {
      "text/plain": [
       "DecisionTreeClassifier(criterion='entropy', max_depth=10, random_state=10)"
      ]
     },
     "execution_count": 31,
     "metadata": {},
     "output_type": "execute_result"
    }
   ],
   "source": [
    "dec_model_fit"
   ]
  },
  {
   "cell_type": "code",
   "execution_count": 32,
   "metadata": {},
   "outputs": [
    {
     "data": {
      "text/plain": [
       "11"
      ]
     },
     "execution_count": 32,
     "metadata": {},
     "output_type": "execute_result"
    }
   ],
   "source": [
    "dec_model_fit.get_n_leaves()"
   ]
  },
  {
   "cell_type": "code",
   "execution_count": 33,
   "metadata": {},
   "outputs": [
    {
     "data": {
      "text/plain": [
       "array([0, 1], dtype=int64)"
      ]
     },
     "execution_count": 33,
     "metadata": {},
     "output_type": "execute_result"
    }
   ],
   "source": [
    "dec_model_fit.classes_"
   ]
  },
  {
   "cell_type": "markdown",
   "metadata": {},
   "source": [
    "Step 5: Test the model performance on new data"
   ]
  },
  {
   "cell_type": "markdown",
   "metadata": {},
   "source": [
    "# Making Predictions"
   ]
  },
  {
   "cell_type": "code",
   "execution_count": 35,
   "metadata": {},
   "outputs": [],
   "source": [
    "predicted = dec_model_fit.predict(X_test)"
   ]
  },
  {
   "cell_type": "markdown",
   "metadata": {},
   "source": [
    "# Measuring Accuracy of the model"
   ]
  },
  {
   "cell_type": "code",
   "execution_count": 36,
   "metadata": {},
   "outputs": [
    {
     "name": "stdout",
     "output_type": "stream",
     "text": [
      "              precision    recall  f1-score   support\n",
      "\n",
      "           0       1.00      1.00      1.00        21\n",
      "           1       1.00      1.00      1.00        21\n",
      "\n",
      "    accuracy                           1.00        42\n",
      "   macro avg       1.00      1.00      1.00        42\n",
      "weighted avg       1.00      1.00      1.00        42\n",
      "\n"
     ]
    }
   ],
   "source": [
    "print(classification_report(y_test, predicted))"
   ]
  },
  {
   "cell_type": "code",
   "execution_count": 37,
   "metadata": {},
   "outputs": [
    {
     "name": "stdout",
     "output_type": "stream",
     "text": [
      "[[21  0]\n",
      " [ 0 21]]\n"
     ]
    }
   ],
   "source": [
    "print(confusion_matrix(y_test, predicted))"
   ]
  },
  {
   "cell_type": "code",
   "execution_count": 38,
   "metadata": {},
   "outputs": [
    {
     "name": "stdout",
     "output_type": "stream",
     "text": [
      "Accuracy: 1.0\n"
     ]
    }
   ],
   "source": [
    "print(\"Accuracy:\",metrics.accuracy_score(y_test, predicted))"
   ]
  },
  {
   "cell_type": "code",
   "execution_count": 39,
   "metadata": {},
   "outputs": [],
   "source": [
    "# Plot the tree structure of fully grown tree"
   ]
  },
  {
   "cell_type": "code",
   "execution_count": 40,
   "metadata": {},
   "outputs": [],
   "source": [
    "from sklearn import tree"
   ]
  },
  {
   "cell_type": "code",
   "execution_count": 41,
   "metadata": {},
   "outputs": [
    {
     "data": {
      "text/plain": [
       "[Text(167.4, 199.32, 'X[1] <= 0.5\\nentropy = 0.993\\nsamples = 166\\nvalue = [75, 91]'),\n",
       " Text(111.6, 163.07999999999998, 'X[2] <= 0.5\\nentropy = 0.718\\nsamples = 91\\nvalue = [18, 73]'),\n",
       " Text(89.28, 126.83999999999999, 'X[5] <= 1.5\\nentropy = 0.985\\nsamples = 42\\nvalue = [18, 24]'),\n",
       " Text(66.96000000000001, 90.6, 'X[0] <= 3.75\\nentropy = 0.958\\nsamples = 29\\nvalue = [18, 11]'),\n",
       " Text(44.64, 54.359999999999985, 'X[4] <= 0.5\\nentropy = 0.619\\nsamples = 13\\nvalue = [2, 11]'),\n",
       " Text(22.32, 18.119999999999976, 'entropy = 0.0\\nsamples = 11\\nvalue = [0, 11]'),\n",
       " Text(66.96000000000001, 18.119999999999976, 'entropy = 0.0\\nsamples = 2\\nvalue = [2, 0]'),\n",
       " Text(89.28, 54.359999999999985, 'entropy = 0.0\\nsamples = 16\\nvalue = [16, 0]'),\n",
       " Text(111.6, 90.6, 'entropy = 0.0\\nsamples = 13\\nvalue = [0, 13]'),\n",
       " Text(133.92000000000002, 126.83999999999999, 'entropy = 0.0\\nsamples = 49\\nvalue = [0, 49]'),\n",
       " Text(223.2, 163.07999999999998, 'X[2] <= 0.5\\nentropy = 0.795\\nsamples = 75\\nvalue = [57, 18]'),\n",
       " Text(178.56, 126.83999999999999, 'X[5] <= 0.5\\nentropy = 0.342\\nsamples = 47\\nvalue = [44, 3]'),\n",
       " Text(156.24, 90.6, 'X[0] <= 3.5\\nentropy = 0.985\\nsamples = 7\\nvalue = [4, 3]'),\n",
       " Text(133.92000000000002, 54.359999999999985, 'entropy = 0.0\\nsamples = 3\\nvalue = [0, 3]'),\n",
       " Text(178.56, 54.359999999999985, 'entropy = 0.0\\nsamples = 4\\nvalue = [4, 0]'),\n",
       " Text(200.88, 90.6, 'entropy = 0.0\\nsamples = 40\\nvalue = [40, 0]'),\n",
       " Text(267.84000000000003, 126.83999999999999, 'X[0] <= 2.75\\nentropy = 0.996\\nsamples = 28\\nvalue = [13, 15]'),\n",
       " Text(245.52, 90.6, 'entropy = 0.0\\nsamples = 11\\nvalue = [11, 0]'),\n",
       " Text(290.16, 90.6, 'X[7] <= 0.5\\nentropy = 0.523\\nsamples = 17\\nvalue = [2, 15]'),\n",
       " Text(267.84000000000003, 54.359999999999985, 'entropy = 0.0\\nsamples = 15\\nvalue = [0, 15]'),\n",
       " Text(312.48, 54.359999999999985, 'entropy = 0.0\\nsamples = 2\\nvalue = [2, 0]')]"
      ]
     },
     "execution_count": 41,
     "metadata": {},
     "output_type": "execute_result"
    },
    {
     "data": {
      "image/png": "[encoded data removed]",
      "text/plain": [
       "<Figure size 432x288 with 1 Axes>"
      ]
     },
     "metadata": {
      "needs_background": "light"
     },
     "output_type": "display_data"
    }
   ],
   "source": [
    "tree.plot_tree(dec_model_fit)"
   ]
  },
  {
   "cell_type": "code",
   "execution_count": 42,
   "metadata": {},
   "outputs": [
    {
     "data": {
      "text/plain": [
       "[Text(167.4, 199.32, 'WorkChallenging <= 0.5\\nentropy = 0.993\\nsamples = 166\\nvalue = [75, 91]\\nclass = No'),\n",
       " Text(111.6, 163.07999999999998, 'WorkEnvir <= 0.5\\nentropy = 0.718\\nsamples = 91\\nvalue = [18, 73]\\nclass = No'),\n",
       " Text(89.28, 126.83999999999999, 'maritalstatus <= 1.5\\nentropy = 0.985\\nsamples = 42\\nvalue = [18, 24]\\nclass = No'),\n",
       " Text(66.96000000000001, 90.6, 'YrsExp <= 3.75\\nentropy = 0.958\\nsamples = 29\\nvalue = [18, 11]\\nclass = yes'),\n",
       " Text(44.64, 54.359999999999985, 'TechExper <= 0.5\\nentropy = 0.619\\nsamples = 13\\nvalue = [2, 11]\\nclass = No'),\n",
       " Text(22.32, 18.119999999999976, 'entropy = 0.0\\nsamples = 11\\nvalue = [0, 11]\\nclass = No'),\n",
       " Text(66.96000000000001, 18.119999999999976, 'entropy = 0.0\\nsamples = 2\\nvalue = [2, 0]\\nclass = yes'),\n",
       " Text(89.28, 54.359999999999985, 'entropy = 0.0\\nsamples = 16\\nvalue = [16, 0]\\nclass = yes'),\n",
       " Text(111.6, 90.6, 'entropy = 0.0\\nsamples = 13\\nvalue = [0, 13]\\nclass = No'),\n",
       " Text(133.92000000000002, 126.83999999999999, 'entropy = 0.0\\nsamples = 49\\nvalue = [0, 49]\\nclass = No'),\n",
       " Text(223.2, 163.07999999999998, 'WorkEnvir <= 0.5\\nentropy = 0.795\\nsamples = 75\\nvalue = [57, 18]\\nclass = yes'),\n",
       " Text(178.56, 126.83999999999999, 'maritalstatus <= 0.5\\nentropy = 0.342\\nsamples = 47\\nvalue = [44, 3]\\nclass = yes'),\n",
       " Text(156.24, 90.6, 'YrsExp <= 3.5\\nentropy = 0.985\\nsamples = 7\\nvalue = [4, 3]\\nclass = yes'),\n",
       " Text(133.92000000000002, 54.359999999999985, 'entropy = 0.0\\nsamples = 3\\nvalue = [0, 3]\\nclass = No'),\n",
       " Text(178.56, 54.359999999999985, 'entropy = 0.0\\nsamples = 4\\nvalue = [4, 0]\\nclass = yes'),\n",
       " Text(200.88, 90.6, 'entropy = 0.0\\nsamples = 40\\nvalue = [40, 0]\\nclass = yes'),\n",
       " Text(267.84000000000003, 126.83999999999999, 'YrsExp <= 2.75\\nentropy = 0.996\\nsamples = 28\\nvalue = [13, 15]\\nclass = No'),\n",
       " Text(245.52, 90.6, 'entropy = 0.0\\nsamples = 11\\nvalue = [11, 0]\\nclass = yes'),\n",
       " Text(290.16, 90.6, 'children <= 0.5\\nentropy = 0.523\\nsamples = 17\\nvalue = [2, 15]\\nclass = No'),\n",
       " Text(267.84000000000003, 54.359999999999985, 'entropy = 0.0\\nsamples = 15\\nvalue = [0, 15]\\nclass = No'),\n",
       " Text(312.48, 54.359999999999985, 'entropy = 0.0\\nsamples = 2\\nvalue = [2, 0]\\nclass = yes')]"
      ]
     },
     "execution_count": 42,
     "metadata": {},
     "output_type": "execute_result"
    },
    {
     "data": {
      "image/png": "[encoded data removed]",
      "text/plain": [
       "<Figure size 432x288 with 1 Axes>"
      ]
     },
     "metadata": {
      "needs_background": "light"
     },
     "output_type": "display_data"
    }
   ],
   "source": [
    "tree.plot_tree(decision_tree = dec_model_fit, \n",
    "               feature_names = X_train.columns,\n",
    "              class_names = (['yes', 'No']),\n",
    "               filled = True,\n",
    "               impurity = True\n",
    "              )"
   ]
  },
  {
   "cell_type": "code",
   "execution_count": 43,
   "metadata": {},
   "outputs": [],
   "source": [
    "#Step 7: Improve performance of the tree by pruning the tree"
   ]
  },
  {
   "cell_type": "markdown",
   "metadata": {},
   "source": [
    "# Creating a pruned Tree"
   ]
  },
  {
   "cell_type": "code",
   "execution_count": 44,
   "metadata": {},
   "outputs": [
    {
     "name": "stdout",
     "output_type": "stream",
     "text": [
      "              precision    recall  f1-score   support\n",
      "\n",
      "           0       1.00      0.90      0.95        21\n",
      "           1       0.91      1.00      0.95        21\n",
      "\n",
      "    accuracy                           0.95        42\n",
      "   macro avg       0.96      0.95      0.95        42\n",
      "weighted avg       0.96      0.95      0.95        42\n",
      "\n",
      "Accuracy: 0.9523809523809523\n"
     ]
    },
    {
     "data": {
      "text/plain": [
       "[Text(155.44285714285715, 195.696, 'WorkChallenging <= 0.5\\nsamples = 166\\nvalue = [75, 91]\\nclass = No'),\n",
       " Text(95.65714285714286, 152.208, 'WorkEnvir <= 0.5\\nsamples = 91\\nvalue = [18, 73]\\nclass = No'),\n",
       " Text(71.74285714285715, 108.72, 'maritalstatus <= 1.5\\nsamples = 42\\nvalue = [18, 24]\\nclass = No'),\n",
       " Text(47.82857142857143, 65.232, 'YrsExp <= 3.75\\nsamples = 29\\nvalue = [18, 11]\\nclass = yes'),\n",
       " Text(23.914285714285715, 21.744, 'samples = 13\\nvalue = [2, 11]\\nclass = No'),\n",
       " Text(71.74285714285715, 21.744, 'samples = 16\\nvalue = [16, 0]\\nclass = yes'),\n",
       " Text(95.65714285714286, 65.232, 'samples = 13\\nvalue = [0, 13]\\nclass = No'),\n",
       " Text(119.57142857142857, 108.72, 'samples = 49\\nvalue = [0, 49]\\nclass = No'),\n",
       " Text(215.22857142857143, 152.208, 'WorkEnvir <= 0.5\\nsamples = 75\\nvalue = [57, 18]\\nclass = yes'),\n",
       " Text(167.4, 108.72, 'maritalstatus <= 0.5\\nsamples = 47\\nvalue = [44, 3]\\nclass = yes'),\n",
       " Text(143.4857142857143, 65.232, 'YrsExp <= 3.5\\nsamples = 7\\nvalue = [4, 3]\\nclass = yes'),\n",
       " Text(119.57142857142857, 21.744, 'samples = 3\\nvalue = [0, 3]\\nclass = No'),\n",
       " Text(167.4, 21.744, 'samples = 4\\nvalue = [4, 0]\\nclass = yes'),\n",
       " Text(191.31428571428572, 65.232, 'samples = 40\\nvalue = [40, 0]\\nclass = yes'),\n",
       " Text(263.0571428571429, 108.72, 'YrsExp <= 2.75\\nsamples = 28\\nvalue = [13, 15]\\nclass = No'),\n",
       " Text(239.14285714285714, 65.232, 'samples = 11\\nvalue = [11, 0]\\nclass = yes'),\n",
       " Text(286.9714285714286, 65.232, 'children <= 0.5\\nsamples = 17\\nvalue = [2, 15]\\nclass = No'),\n",
       " Text(263.0571428571429, 21.744, 'samples = 15\\nvalue = [0, 15]\\nclass = No'),\n",
       " Text(310.8857142857143, 21.744, 'samples = 2\\nvalue = [2, 0]\\nclass = yes')]"
      ]
     },
     "execution_count": 44,
     "metadata": {},
     "output_type": "execute_result"
    },
    {
     "data": {
      "image/png": "[encoded data removed]",
      "text/plain": [
       "<Figure size 432x288 with 1 Axes>"
      ]
     },
     "metadata": {
      "needs_background": "light"
     },
     "output_type": "display_data"
    }
   ],
   "source": [
    "dec_model_2= DecisionTreeClassifier(random_state=0, \n",
    "                                  criterion=\"entropy\", \n",
    "                                  max_depth=4)\n",
    "dec_model_fit_2 = dec_model_2.fit(X_train, y_train) ## Train the model\n",
    "##Predict Test Data\n",
    "predicted_2 = dec_model_fit_2.predict(X_test)\n",
    "\n",
    "##Performance of the model\n",
    "print(classification_report(y_test, predicted_2))\n",
    "print(\"Accuracy:\",metrics.accuracy_score(y_test, predicted_2))\n",
    "\n",
    "##Plot the tree\n",
    "tree.plot_tree(decision_tree = dec_model_fit_2, \n",
    "               feature_names = X_train.columns,\n",
    "               class_names = (['yes', 'No']),\n",
    "               filled = True,\n",
    "               impurity = False\n",
    "              )\n"
   ]
  },
  {
   "cell_type": "code",
   "execution_count": 45,
   "metadata": {},
   "outputs": [
    {
     "name": "stdout",
     "output_type": "stream",
     "text": [
      "              precision    recall  f1-score   support\n",
      "\n",
      "           0       0.90      0.90      0.90        21\n",
      "           1       0.90      0.90      0.90        21\n",
      "\n",
      "    accuracy                           0.90        42\n",
      "   macro avg       0.90      0.90      0.90        42\n",
      "weighted avg       0.90      0.90      0.90        42\n",
      "\n",
      "Accuracy: 0.9047619047619048\n"
     ]
    },
    {
     "data": {
      "text/plain": [
       "[Text(167.4, 190.26, 'WorkChallenging <= 0.5\\nsamples = 166\\nvalue = [75, 91]\\nclass = No'),\n",
       " Text(83.7, 135.9, 'Compensation <= 0.5\\nsamples = 91\\nvalue = [18, 73]\\nclass = No'),\n",
       " Text(41.85, 81.53999999999999, 'loan <= 0.5\\nsamples = 20\\nvalue = [13, 7]\\nclass = yes'),\n",
       " Text(20.925, 27.180000000000007, 'samples = 16\\nvalue = [13, 3]\\nclass = yes'),\n",
       " Text(62.775000000000006, 27.180000000000007, 'samples = 4\\nvalue = [0, 4]\\nclass = No'),\n",
       " Text(125.55000000000001, 81.53999999999999, 'TechExper <= 0.5\\nsamples = 71\\nvalue = [5, 66]\\nclass = No'),\n",
       " Text(104.625, 27.180000000000007, 'samples = 66\\nvalue = [0, 66]\\nclass = No'),\n",
       " Text(146.475, 27.180000000000007, 'samples = 5\\nvalue = [5, 0]\\nclass = yes'),\n",
       " Text(251.10000000000002, 135.9, 'WorkEnvir <= 0.5\\nsamples = 75\\nvalue = [57, 18]\\nclass = yes'),\n",
       " Text(209.25, 81.53999999999999, 'maritalstatus <= 0.5\\nsamples = 47\\nvalue = [44, 3]\\nclass = yes'),\n",
       " Text(188.32500000000002, 27.180000000000007, 'samples = 7\\nvalue = [4, 3]\\nclass = yes'),\n",
       " Text(230.175, 27.180000000000007, 'samples = 40\\nvalue = [40, 0]\\nclass = yes'),\n",
       " Text(292.95, 81.53999999999999, 'YrsExp <= 2.75\\nsamples = 28\\nvalue = [13, 15]\\nclass = No'),\n",
       " Text(272.02500000000003, 27.180000000000007, 'samples = 11\\nvalue = [11, 0]\\nclass = yes'),\n",
       " Text(313.875, 27.180000000000007, 'samples = 17\\nvalue = [2, 15]\\nclass = No')]"
      ]
     },
     "execution_count": 45,
     "metadata": {},
     "output_type": "execute_result"
    },
    {
     "data": {
      "image/png": "[encoded data removed]",
      "text/plain": [
       "<Figure size 432x288 with 1 Axes>"
      ]
     },
     "metadata": {
      "needs_background": "light"
     },
     "output_type": "display_data"
    }
   ],
   "source": [
    "dec_model_3= DecisionTreeClassifier(random_state=0, \n",
    "                                  criterion=\"gini\", \n",
    "                                  max_depth=3)\n",
    "dec_model_fit_3 = dec_model_3.fit(X_train, y_train) ## Train the model\n",
    "##Predict Test Data\n",
    "predicted_3 = dec_model_fit_3.predict(X_test)\n",
    "\n",
    "##Performance of the model\n",
    "print(classification_report(y_test, predicted_3))\n",
    "print(\"Accuracy:\",metrics.accuracy_score(y_test, predicted_3))\n",
    "\n",
    "##Plot the tree\n",
    "tree.plot_tree(decision_tree = dec_model_fit_3, \n",
    "               feature_names = X_train.columns,\n",
    "               class_names = (['yes', 'No']),\n",
    "               filled = True,\n",
    "               impurity = False\n",
    "              )"
   ]
  },
  {
   "cell_type": "code",
   "execution_count": 46,
   "metadata": {},
   "outputs": [
    {
     "data": {
      "text/plain": [
       "Text(0.5, 1.0, 'Receiver Operating Characteristic')"
      ]
     },
     "execution_count": 46,
     "metadata": {},
     "output_type": "execute_result"
    },
    {
     "data": {
      "image/png": "[encoded data removed]",
      "text/plain": [
       "<Figure size 432x288 with 1 Axes>"
      ]
     },
     "metadata": {
      "needs_background": "light"
     },
     "output_type": "display_data"
    }
   ],
   "source": [
    "# Compute fpr, tpr, thresholds\n",
    "fpr, tpr, thresholds = roc_curve(y_test, predicted_3)\n",
    "plt.plot(fpr, tpr)\n",
    "plt.xlabel('False Positive Rate or (1 - Specifity)')\n",
    "plt.ylabel('True Positive Rate or (Sensitivity)')\n",
    "plt.title('Receiver Operating Characteristic')"
   ]
  },
  {
   "cell_type": "code",
   "execution_count": 51,
   "metadata": {},
   "outputs": [
    {
     "data": {
      "text/plain": [
       "array([1.        , 0.        , 0.88235294, 1.        , 0.1875    ,\n",
       "       0.88235294, 0.        , 1.        , 0.        , 1.        ,\n",
       "       0.        , 0.        , 0.1875    , 0.42857143, 0.        ,\n",
       "       1.        , 1.        , 0.88235294, 0.        , 0.        ,\n",
       "       0.88235294, 0.1875    , 0.        , 0.        , 1.        ,\n",
       "       1.        , 0.88235294, 1.        , 0.        , 0.        ,\n",
       "       0.1875    , 1.        , 1.        , 1.        , 0.88235294,\n",
       "       0.        , 1.        , 1.        , 0.        , 0.        ,\n",
       "       0.        , 0.88235294])"
      ]
     },
     "execution_count": 51,
     "metadata": {},
     "output_type": "execute_result"
    }
   ],
   "source": [
    "dec_model_fit_3.predict_proba(X_test)[:,1]"
   ]
  },
  {
   "cell_type": "code",
   "execution_count": 53,
   "metadata": {},
   "outputs": [
    {
     "data": {
      "text/plain": [
       "0.9761904761904762"
      ]
     },
     "execution_count": 53,
     "metadata": {},
     "output_type": "execute_result"
    }
   ],
   "source": [
    "roc_auc_score(y_test,dec_model_fit_3.predict_proba(X_test)[:,1])"
   ]
  },
  {
   "cell_type": "code",
   "execution_count": null,
   "metadata": {},
   "outputs": [],
   "source": []
  },
  {
   "cell_type": "code",
   "execution_count": null,
   "metadata": {},
   "outputs": [],
   "source": []
  }
 ],
 "metadata": {
  "kernelspec": {
   "display_name": "Python 3",
   "language": "python",
   "name": "python3"
  },
  "language_info": {
   "codemirror_mode": {
    "name": "ipython",
    "version": 3
   },
   "file_extension": ".py",
   "mimetype": "text/x-python",
   "name": "python",
   "nbconvert_exporter": "python",
   "pygments_lexer": "ipython3",
   "version": "3.8.8"
  }
 },
 "nbformat": 4,
 "nbformat_minor": 4
}
