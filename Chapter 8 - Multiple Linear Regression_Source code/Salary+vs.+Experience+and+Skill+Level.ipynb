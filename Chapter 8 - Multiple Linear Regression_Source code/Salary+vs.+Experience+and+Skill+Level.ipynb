{
 "cells": [
  {
   "cell_type": "code",
   "execution_count": 1,
   "metadata": {
    "collapsed": true
   },
   "outputs": [],
   "source": [
    "#import all the necessary packages\n",
    "import numpy as np\n",
    "import pandas as pd\n",
    "import sklearn"
   ]
  },
  {
   "cell_type": "code",
   "execution_count": 2,
   "metadata": {},
   "outputs": [
    {
     "name": "stdout",
     "output_type": "stream",
     "text": [
      "    Annu_Salary  Expe_Yrs  Skill_lev\n",
      "0          4000      0.00        0.5\n",
      "1          6000      1.00        1.0\n",
      "2          8000      2.00        1.5\n",
      "3         10000      3.00        2.0\n",
      "4         12000      4.00        2.5\n",
      "5         14000      4.50        3.5\n",
      "6         16000      5.00        4.0\n",
      "7         14000      4.00        4.0\n",
      "8         18000      6.00        4.0\n",
      "9         20000      7.00        4.5\n",
      "10        22000      8.00        5.0\n",
      "11        10000      2.00        3.0\n",
      "12         9000      2.00        2.5\n",
      "13         9000      2.50        2.0\n",
      "14         8000      1.00        3.0\n",
      "15        11000      3.00        2.5\n",
      "16        13000      4.25        2.7\n",
      "17         7000      1.00        1.5\n",
      "18         7000      1.50        1.0\n",
      "19        11000      3.50        2.0\n",
      "20        13000      4.50        2.6\n",
      "21        17000      5.00        4.5\n",
      "22        17000      5.50        4.0\n",
      "23        21000      7.50        4.5\n",
      "24        21000      7.25        4.7\n",
      "25        15000      5.50        3.0\n",
      "26        15000      5.00        3.5\n",
      "27         6000      0.00        2.0\n",
      "28        21000      7.40        4.6\n",
      "29        13000      4.20        3.1\n",
      "30        22000      8.25        4.7\n",
      "31        22000      8.50        4.5\n",
      "32        16000      5.25        3.7\n",
      "33        16000      5.50        3.5\n",
      "34        16000      5.75        3.2\n",
      "35        18000      6.25        3.7\n",
      "36        18000      6.50        3.5\n",
      "37        20000      7.50        4.0\n",
      "38        20000      7.25        4.2\n",
      "39        10000      2.50        2.5\n",
      "40        10000      2.75        2.2\n",
      "41        10000      2.25        2.7\n",
      "42        15000      5.50        3.0\n",
      "43        15000      5.00        3.5\n",
      "44        19000      6.50        4.0\n",
      "45        19000      6.30        4.2\n",
      "46         5000      0.50        0.5\n",
      "47         6000      0.75        1.0\n"
     ]
    }
   ],
   "source": [
    "#import the text file with data from the local machine\n",
    "#the data is ',' separated\n",
    "#this is a text file with headers and hence the header row is specified\n",
    "df = pd.read_csv('E:/Book_Revision/sal1.txt', sep=',', header=0)\n",
    "print(df)"
   ]
  },
  {
   "cell_type": "code",
   "execution_count": 3,
   "metadata": {},
   "outputs": [
    {
     "name": "stdout",
     "output_type": "stream",
     "text": [
      "                            OLS Regression Results                            \n",
      "==============================================================================\n",
      "Dep. Variable:            Annu_Salary   R-squared:                       0.995\n",
      "Model:                            OLS   Adj. R-squared:                  0.995\n",
      "Method:                 Least Squares   F-statistic:                     4469.\n",
      "Date:                Wed, 10 Aug 2022   Prob (F-statistic):           1.76e-52\n",
      "Time:                        11:26:15   Log-Likelihood:                -351.37\n",
      "No. Observations:                  48   AIC:                             708.7\n",
      "Df Residuals:                      45   BIC:                             714.4\n",
      "Df Model:                           2                                         \n",
      "Covariance Type:            nonrobust                                         \n",
      "==============================================================================\n",
      "                 coef    std err          t      P>|t|      [0.025      0.975]\n",
      "------------------------------------------------------------------------------\n",
      "Intercept   3011.6568    162.584     18.524      0.000    2684.195    3339.119\n",
      "Expe_Yrs    1589.6773     50.860     31.256      0.000    1487.239    1692.115\n",
      "Skill_lev   1263.6482    102.028     12.385      0.000    1058.154    1469.142\n",
      "==============================================================================\n",
      "Omnibus:                        8.967   Durbin-Watson:                   1.339\n",
      "Prob(Omnibus):                  0.011   Jarque-Bera (JB):                2.649\n",
      "Skew:                           0.053   Prob(JB):                        0.266\n",
      "Kurtosis:                       1.854   Cond. No.                         20.1\n",
      "==============================================================================\n",
      "\n",
      "Warnings:\n",
      "[1] Standard Errors assume that the covariance matrix of the errors is correctly specified.\n"
     ]
    }
   ],
   "source": [
    "#Thanks to: Seabold, Skipper, and Josef Perktold. “statsmodels: Econometric and statistical \n",
    "#modeling with python.” Proceedings of the 9th Python in Science Conference. 2010.\n",
    "#Generate multiple linear regression model using statsmodels package\n",
    "from statsmodels.formula.api import ols\n",
    "#fit Multiple linear regression model\n",
    "Mul_Line_Reg_1 = ols('Annu_Salary ~ Expe_Yrs + Skill_lev', data=df).fit()\n",
    "#print model summary\n",
    "print(Mul_Line_Reg_1.summary())"
   ]
  },
  {
   "cell_type": "code",
   "execution_count": 4,
   "metadata": {
    "collapsed": true
   },
   "outputs": [],
   "source": [
    "#As you can see above the P> |T| value is 0.000 in case of both the predictors\n",
    "#which confirms the significance of both the predictors to the model\n",
    "#Also overall Prob (F-statistic) is also negligible compared to the level of \n",
    "#significance.  Hence the model generated explains the relationship well"
   ]
  },
  {
   "cell_type": "code",
   "execution_count": 5,
   "metadata": {},
   "outputs": [
    {
     "data": {
      "text/plain": [
       "0     4000\n",
       "1     6000\n",
       "2     8000\n",
       "3    10000\n",
       "4    12000\n",
       "Name: Annu_Salary, dtype: int64"
      ]
     },
     "execution_count": 5,
     "metadata": {},
     "output_type": "execute_result"
    }
   ],
   "source": [
    "#The following section provides another way of generating the model\n",
    "#separating the response variable data to a separate dataframe\n",
    "y = df[\"Annu_Salary\"]\n",
    "#displaying top 5 values from this dataframe\n",
    "y.head(5)"
   ]
  },
  {
   "cell_type": "code",
   "execution_count": 6,
   "metadata": {},
   "outputs": [
    {
     "name": "stdout",
     "output_type": "stream",
     "text": [
      "Expe_Yrs     float64\n",
      "Skill_lev    float64\n",
      "dtype: object\n"
     ]
    },
    {
     "data": {
      "text/html": [
       "<div>\n",
       "<style>\n",
       "    .dataframe thead tr:only-child th {\n",
       "        text-align: right;\n",
       "    }\n",
       "\n",
       "    .dataframe thead th {\n",
       "        text-align: left;\n",
       "    }\n",
       "\n",
       "    .dataframe tbody tr th {\n",
       "        vertical-align: top;\n",
       "    }\n",
       "</style>\n",
       "<table border=\"1\" class=\"dataframe\">\n",
       "  <thead>\n",
       "    <tr style=\"text-align: right;\">\n",
       "      <th></th>\n",
       "      <th>Expe_Yrs</th>\n",
       "      <th>Skill_lev</th>\n",
       "    </tr>\n",
       "  </thead>\n",
       "  <tbody>\n",
       "    <tr>\n",
       "      <th>0</th>\n",
       "      <td>0.0</td>\n",
       "      <td>0.5</td>\n",
       "    </tr>\n",
       "    <tr>\n",
       "      <th>1</th>\n",
       "      <td>1.0</td>\n",
       "      <td>1.0</td>\n",
       "    </tr>\n",
       "    <tr>\n",
       "      <th>2</th>\n",
       "      <td>2.0</td>\n",
       "      <td>1.5</td>\n",
       "    </tr>\n",
       "    <tr>\n",
       "      <th>3</th>\n",
       "      <td>3.0</td>\n",
       "      <td>2.0</td>\n",
       "    </tr>\n",
       "    <tr>\n",
       "      <th>4</th>\n",
       "      <td>4.0</td>\n",
       "      <td>2.5</td>\n",
       "    </tr>\n",
       "  </tbody>\n",
       "</table>\n",
       "</div>"
      ],
      "text/plain": [
       "   Expe_Yrs  Skill_lev\n",
       "0       0.0        0.5\n",
       "1       1.0        1.0\n",
       "2       2.0        1.5\n",
       "3       3.0        2.0\n",
       "4       4.0        2.5"
      ]
     },
     "execution_count": 6,
     "metadata": {},
     "output_type": "execute_result"
    }
   ],
   "source": [
    "#other than the Annu_Salary other predictor data is carried over to a separate dataframe\n",
    "X = df.drop(['Annu_Salary'], axis=1)\n",
    "print(X.dtypes)\n",
    "#displaying top 5 values from this dataframe\n",
    "X.head(5)"
   ]
  },
  {
   "cell_type": "code",
   "execution_count": 7,
   "metadata": {},
   "outputs": [],
   "source": [
    "#The data is split as training set and test set\n",
    "#There are multiple means - Here we are doing it manually\n",
    "train_samples = (35)\n",
    "from sklearn.model_selection import train_test_split\n",
    "X_train, X_test, y_train, y_test = train_test_split(X, y, train_size=train_samples, test_size=12)"
   ]
  },
  {
   "cell_type": "code",
   "execution_count": 8,
   "metadata": {},
   "outputs": [
    {
     "data": {
      "text/plain": [
       "LinearRegression(copy_X=True, fit_intercept=True, n_jobs=1, normalize=False)"
      ]
     },
     "execution_count": 8,
     "metadata": {},
     "output_type": "execute_result"
    }
   ],
   "source": [
    "#importing necessary packages\n",
    "from sklearn.linear_model import LinearRegression\n",
    "#running the LinearRegression\n",
    "Mul_Line_Reg = LinearRegression()\n",
    "Mul_Line_Reg.fit(X_train, y_train)\n",
    "#Mul_Line_Reg is the model generated"
   ]
  },
  {
   "cell_type": "code",
   "execution_count": 9,
   "metadata": {},
   "outputs": [
    {
     "name": "stdout",
     "output_type": "stream",
     "text": [
      "[ 1628.07306079  1176.49916823]\n"
     ]
    }
   ],
   "source": [
    "#print regression coefficients\n",
    "print(Mul_Line_Reg.coef_)"
   ]
  },
  {
   "cell_type": "code",
   "execution_count": 10,
   "metadata": {},
   "outputs": [
    {
     "data": {
      "text/plain": [
       "0.99391939705948518"
      ]
     },
     "execution_count": 10,
     "metadata": {},
     "output_type": "execute_result"
    }
   ],
   "source": [
    "#print the regression score using the test data\n",
    "#this provides the regression model accuracy\n",
    "Mul_Line_Reg.score(X_test, y_test)"
   ]
  },
  {
   "cell_type": "code",
   "execution_count": 11,
   "metadata": {},
   "outputs": [
    {
     "data": {
      "text/plain": [
       "158940.20463956954"
      ]
     },
     "execution_count": 11,
     "metadata": {},
     "output_type": "execute_result"
    }
   ],
   "source": [
    "#the above result shows an accuracy of 99.39%\n",
    "#finding the mean square error on the test predictions\n",
    "np.mean((Mul_Line_Reg.predict(X_test)-y_test)**2)"
   ]
  },
  {
   "cell_type": "code",
   "execution_count": 12,
   "metadata": {},
   "outputs": [
    {
     "name": "stdout",
     "output_type": "stream",
     "text": [
      "[  6527.4644841   22267.50994474  20639.43688395  12588.18283471\n",
      "  15618.54201002  10371.8601898   22041.72299846  11185.8967202\n",
      "  18423.11423904  16260.86010886  15392.75506373   8155.53754489]\n",
      "17     7000\n",
      "31    22000\n",
      "23    21000\n",
      "4     12000\n",
      "25    15000\n",
      "3     10000\n",
      "10    22000\n",
      "19    11000\n",
      "44    19000\n",
      "34    16000\n",
      "43    15000\n",
      "2      8000\n",
      "Name: Annu_Salary, dtype: int64\n"
     ]
    }
   ],
   "source": [
    "#the above shows very less overall error in the prediction\n",
    "#run the model on the test data to arrive at the predicted values\n",
    "predicted = Mul_Line_Reg.predict(X_test)\n",
    "#printing the predicted and actual response values\n",
    "print(predicted)\n",
    "print(y_test)"
   ]
  },
  {
   "cell_type": "code",
   "execution_count": 13,
   "metadata": {
    "collapsed": true
   },
   "outputs": [],
   "source": [
    "#as you can see above there is high agreement between the\n",
    "#predicted and actual values"
   ]
  },
  {
   "cell_type": "code",
   "execution_count": 14,
   "metadata": {},
   "outputs": [
    {
     "data": {
      "image/png": "[encoded data removed]",
      "text/plain": [
       "<matplotlib.figure.Figure at 0x2455d15b518>"
      ]
     },
     "metadata": {},
     "output_type": "display_data"
    }
   ],
   "source": [
    "#creating the scatter plot between response variable\n",
    "#actual values and predicted values\n",
    "import matplotlib.pyplot as plt\n",
    "plt.scatter(predicted, (predicted-y_test))\n",
    "plt.xlabel(\"fitted\")\n",
    "plt.ylabel(\"residuals\")\n",
    "#plt.draw()\n",
    "plt.show()"
   ]
  },
  {
   "cell_type": "code",
   "execution_count": 15,
   "metadata": {
    "collapsed": true
   },
   "outputs": [],
   "source": [
    "#Regression Assumption: Linearity: Validation\n",
    "#As you can see in the above graph the residuals are very small.\n",
    "#Residuals are randomly spread around the 0.00 residuals.\n",
    "#Hence, this depicts that the linearity assumption is validated.\n",
    "\n",
    "#Regression Assumption: Test of equal variance of the distribution of response variable\n",
    "#As we can see from the plot (above in case of test of linearity), \n",
    "#there is there no significant difference in the variation of the residuals \n",
    "#for different levels of the independent variable’s values. \n",
    "#Hence, we consider that the test of equal variance of the distribution\n",
    "#of the response variable as passed or validated"
   ]
  },
  {
   "cell_type": "code",
   "execution_count": 16,
   "metadata": {},
   "outputs": [
    {
     "data": {
      "image/png": "[encoded data removed]",
      "text/plain": [
       "<matplotlib.figure.Figure at 0x2455d854240>"
      ]
     },
     "metadata": {},
     "output_type": "display_data"
    }
   ],
   "source": [
    "#Alternative way of validating the linear relatinship assumption\n",
    "#plot the relationship between the data elements in the dataframe\n",
    "#We use the seaborn package here\n",
    "import seaborn as sns\n",
    "sns.pairplot(df)\n",
    "plt.draw()\n",
    "plt.show()"
   ]
  },
  {
   "cell_type": "code",
   "execution_count": 17,
   "metadata": {
    "collapsed": true
   },
   "outputs": [],
   "source": [
    "#the above graph clearly show the linear relationship between the two variables"
   ]
  },
  {
   "cell_type": "code",
   "execution_count": 18,
   "metadata": {
    "collapsed": true
   },
   "outputs": [],
   "source": [
    "#Regression Assumption: No autocorrelation: Validated\n",
    "#as Durbin-Watson Test above (model summary as shown under 9.6.2)\n",
    "#gives a result of ~1.339 which shows a small positive autocorrelation. \n",
    "#However, from the data collection, we know that each data point is of a \n",
    "#different person.  Hence, there is no possibility of autocorrelation."
   ]
  },
  {
   "cell_type": "code",
   "execution_count": 19,
   "metadata": {},
   "outputs": [
    {
     "data": {
      "image/png": "[encoded data removed]",
      "text/plain": [
       "<matplotlib.figure.Figure at 0x2455d15b048>"
      ]
     },
     "metadata": {},
     "output_type": "display_data"
    }
   ],
   "source": [
    "#Validating the regression assumption: Normality\n",
    "#plotting for the validaton of normal distribution of the residuals\n",
    "import scipy\n",
    "from scipy import stats\n",
    "stats.probplot(y_test-predicted, plot=plt)\n",
    "plt.show()"
   ]
  },
  {
   "cell_type": "code",
   "execution_count": 20,
   "metadata": {
    "collapsed": true
   },
   "outputs": [],
   "source": [
    "#The above plot shows the normal distribution of the residuals\n",
    "#as they are almost on the 45 degree line"
   ]
  },
  {
   "cell_type": "code",
   "execution_count": 27,
   "metadata": {},
   "outputs": [
    {
     "name": "stdout",
     "output_type": "stream",
     "text": [
      "[ 10371.8601898   15981.00464785]\n"
     ]
    }
   ],
   "source": [
    "#Now let us create a df with predictors to check that\n",
    "#the model predicts the values accurately (even though\n",
    "#we have tested the model against the test data\n",
    "data = {'col1': [3.0, 5.0], 'col2': [2.0, 4.0]}\n",
    "df_new_predictors = pd.DataFrame(data=data)\n",
    "predicted_resp_variable = Mul_Line_Reg.predict(df_new_predictors)\n",
    "print(predicted_resp_variable)"
   ]
  },
  {
   "cell_type": "code",
   "execution_count": 28,
   "metadata": {
    "collapsed": true
   },
   "outputs": [],
   "source": [
    "#You can observe from the above that the predicted values\n",
    "#are very nearer to the actual values from the initial data\n",
    "#i.e.10000 and 16000 respectively"
   ]
  }
 ],
 "metadata": {
  "kernelspec": {
   "display_name": "Python 3",
   "language": "python",
   "name": "python3"
  },
  "language_info": {
   "codemirror_mode": {
    "name": "ipython",
    "version": 3
   },
   "file_extension": ".py",
   "mimetype": "text/x-python",
   "name": "python",
   "nbconvert_exporter": "python",
   "pygments_lexer": "ipython3",
   "version": "3.6.3"
  }
 },
 "nbformat": 4,
 "nbformat_minor": 2
}
