{
 "cells": [
  {
   "cell_type": "code",
   "execution_count": 1,
   "metadata": {
    "collapsed": true
   },
   "outputs": [],
   "source": [
    "#import all the necessary packages\n",
    "import numpy as np\n",
    "import pandas as pd\n",
    "import sklearn"
   ]
  },
  {
   "cell_type": "code",
   "execution_count": 2,
   "metadata": {},
   "outputs": [
    {
     "name": "stdout",
     "output_type": "stream",
     "text": [
      "    Sales_Effort  Product_Sales\n",
      "0            100             10\n",
      "1             82              8\n",
      "2             71              7\n",
      "3            111             11\n",
      "4            112             11\n",
      "5             61              6\n",
      "6             62              6\n",
      "7            113             11\n",
      "8            101             10\n",
      "9             99             10\n",
      "10            79              8\n",
      "11            81              8\n",
      "12            51              5\n",
      "13            50              5\n",
      "14            49              5\n",
      "15            30              3\n",
      "16            31              3\n",
      "17            29              3\n",
      "18            20              2\n",
      "19            41              4\n",
      "20            39              4\n"
     ]
    }
   ],
   "source": [
    "#import the text file with data from the local machine\n",
    "#this is a text file without any headers and hence the headers \n",
    "#are assigned in the following line\n",
    "df = pd.read_csv('E:/Book_Revision/cust1.txt', delim_whitespace=True, \n",
    "                 names=[\"Sales_Effort\",\"Product_Sales\"], header=None)\n",
    "print(df)"
   ]
  },
  {
   "cell_type": "code",
   "execution_count": 3,
   "metadata": {},
   "outputs": [
    {
     "data": {
      "text/plain": [
       "0    10\n",
       "1     8\n",
       "2     7\n",
       "3    11\n",
       "4    11\n",
       "Name: Product_Sales, dtype: int64"
      ]
     },
     "execution_count": 3,
     "metadata": {},
     "output_type": "execute_result"
    }
   ],
   "source": [
    "#separating the response variable data to a separate dataframe\n",
    "y = df[\"Product_Sales\"]\n",
    "#displaying top 5 values from this dataframe\n",
    "y.head(5)"
   ]
  },
  {
   "cell_type": "code",
   "execution_count": 4,
   "metadata": {},
   "outputs": [
    {
     "name": "stdout",
     "output_type": "stream",
     "text": [
      "Sales_Effort    int64\n",
      "dtype: object\n"
     ]
    },
    {
     "data": {
      "text/html": [
       "<div>\n",
       "<style>\n",
       "    .dataframe thead tr:only-child th {\n",
       "        text-align: right;\n",
       "    }\n",
       "\n",
       "    .dataframe thead th {\n",
       "        text-align: left;\n",
       "    }\n",
       "\n",
       "    .dataframe tbody tr th {\n",
       "        vertical-align: top;\n",
       "    }\n",
       "</style>\n",
       "<table border=\"1\" class=\"dataframe\">\n",
       "  <thead>\n",
       "    <tr style=\"text-align: right;\">\n",
       "      <th></th>\n",
       "      <th>Sales_Effort</th>\n",
       "    </tr>\n",
       "  </thead>\n",
       "  <tbody>\n",
       "    <tr>\n",
       "      <th>0</th>\n",
       "      <td>100</td>\n",
       "    </tr>\n",
       "    <tr>\n",
       "      <th>1</th>\n",
       "      <td>82</td>\n",
       "    </tr>\n",
       "    <tr>\n",
       "      <th>2</th>\n",
       "      <td>71</td>\n",
       "    </tr>\n",
       "    <tr>\n",
       "      <th>3</th>\n",
       "      <td>111</td>\n",
       "    </tr>\n",
       "    <tr>\n",
       "      <th>4</th>\n",
       "      <td>112</td>\n",
       "    </tr>\n",
       "  </tbody>\n",
       "</table>\n",
       "</div>"
      ],
      "text/plain": [
       "   Sales_Effort\n",
       "0           100\n",
       "1            82\n",
       "2            71\n",
       "3           111\n",
       "4           112"
      ]
     },
     "execution_count": 4,
     "metadata": {},
     "output_type": "execute_result"
    }
   ],
   "source": [
    "#other than the Product_Sales other data is carried over to a separate dataframe\n",
    "X = df.drop(['Product_Sales'], axis=1)\n",
    "#print out the data types\n",
    "print(X.dtypes)\n",
    "#displaying top 5 values from this dataframe\n",
    "X.head(5)"
   ]
  },
  {
   "cell_type": "code",
   "execution_count": 5,
   "metadata": {
    "collapsed": true
   },
   "outputs": [],
   "source": [
    "#The data is split as training set and test set\n",
    "#There are multiple means - Here we are doing it manually\n",
    "train_samples = (15)\n",
    "from sklearn.model_selection import train_test_split\n",
    "X_train, X_test, y_train, y_test = train_test_split(X, y, \n",
    "                train_size=train_samples, test_size=6)"
   ]
  },
  {
   "cell_type": "code",
   "execution_count": 6,
   "metadata": {},
   "outputs": [
    {
     "data": {
      "text/plain": [
       "LinearRegression(copy_X=True, fit_intercept=True, n_jobs=1, normalize=False)"
      ]
     },
     "execution_count": 6,
     "metadata": {},
     "output_type": "execute_result"
    }
   ],
   "source": [
    "#importing necessary packages\n",
    "from sklearn.linear_model import LinearRegression\n",
    "#running the LinearRegression\n",
    "Line_Reg = LinearRegression()\n",
    "Line_Reg.fit(X_train, y_train)\n",
    "#Line_Reg is the model generated"
   ]
  },
  {
   "cell_type": "code",
   "execution_count": 7,
   "metadata": {},
   "outputs": [
    {
     "name": "stdout",
     "output_type": "stream",
     "text": [
      "[ 0.09808242]\n"
     ]
    }
   ],
   "source": [
    "#print regression coefficients\n",
    "print(Line_Reg.coef_)"
   ]
  },
  {
   "cell_type": "code",
   "execution_count": 8,
   "metadata": {},
   "outputs": [
    {
     "data": {
      "text/plain": [
       "0.99826609407969369"
      ]
     },
     "execution_count": 8,
     "metadata": {},
     "output_type": "execute_result"
    }
   ],
   "source": [
    "#print the regression score using the test data\n",
    "#this provides the regression model accuracy\n",
    "Line_Reg.score(X_test, y_test)"
   ]
  },
  {
   "cell_type": "code",
   "execution_count": 9,
   "metadata": {},
   "outputs": [
    {
     "data": {
      "text/plain": [
       "0.013534098989057235"
      ]
     },
     "execution_count": 9,
     "metadata": {},
     "output_type": "execute_result"
    }
   ],
   "source": [
    "#the above result shows an accuracy of 99.91%\n",
    "#finding the mean square error on the test predictions\n",
    "np.mean((Line_Reg.predict(X_test)-y_test)**2)"
   ]
  },
  {
   "cell_type": "code",
   "execution_count": 10,
   "metadata": {},
   "outputs": [
    {
     "name": "stdout",
     "output_type": "stream",
     "text": [
      "[  6.17895825  10.00417248   5.10005167  10.98499664   3.13840335\n",
      "   8.14060657]\n",
      "6      6\n",
      "8     10\n",
      "12     5\n",
      "3     11\n",
      "16     3\n",
      "1      8\n",
      "Name: Product_Sales, dtype: int64\n"
     ]
    }
   ],
   "source": [
    "#the above shows very less overall error in the prediction\n",
    "#run the model on the test data to arrive at the predicted values\n",
    "predicted = Line_Reg.predict(X_test)\n",
    "#printing the predicted and actual response values\n",
    "print(predicted)\n",
    "print(y_test)"
   ]
  },
  {
   "cell_type": "code",
   "execution_count": 11,
   "metadata": {},
   "outputs": [],
   "source": [
    "#as you can see above there is high agreement between the\n",
    "#predicted and actual values"
   ]
  },
  {
   "cell_type": "code",
   "execution_count": 12,
   "metadata": {},
   "outputs": [
    {
     "name": "stdout",
     "output_type": "stream",
     "text": [
      "[  9.90609006   8.14060657   7.06169999  10.98499664  11.08307905\n",
      "   6.08087583   6.17895825  11.18116147  10.00417248   9.80800764\n",
      "   7.84635932   8.04252415   5.10005167   5.00196925   4.90388684\n",
      "   3.04032093   3.13840335   2.94223851   2.05949677   4.11922751\n",
      "   3.92306267]\n",
      "0     10\n",
      "1      8\n",
      "2      7\n",
      "3     11\n",
      "4     11\n",
      "5      6\n",
      "6      6\n",
      "7     11\n",
      "8     10\n",
      "9     10\n",
      "10     8\n",
      "11     8\n",
      "12     5\n",
      "13     5\n",
      "14     5\n",
      "15     3\n",
      "16     3\n",
      "17     3\n",
      "18     2\n",
      "19     4\n",
      "20     4\n",
      "Name: Product_Sales, dtype: int64\n"
     ]
    }
   ],
   "source": [
    "#We will use the entire data set to carry out the\n",
    "#prediction using the regression model generated\n",
    "predicted_full = Line_Reg.predict(X)\n",
    "#printing the predicted and actual response values\n",
    "print(predicted_full)\n",
    "print(y)"
   ]
  },
  {
   "cell_type": "code",
   "execution_count": 13,
   "metadata": {},
   "outputs": [
    {
     "data": {
      "image/png": "[encoded data removed]",
      "text/plain": [
       "<matplotlib.figure.Figure at 0x1f10e691e10>"
      ]
     },
     "metadata": {},
     "output_type": "display_data"
    }
   ],
   "source": [
    "#creating the scatter plot between response variable\n",
    "#actual values and predicted values\n",
    "import matplotlib.pyplot as plt\n",
    "plt.scatter(predicted_full, (predicted_full-y))\n",
    "plt.xlabel(\"fitted\")\n",
    "plt.ylabel(\"residuals\")\n",
    "plt.show()"
   ]
  },
  {
   "cell_type": "code",
   "execution_count": 14,
   "metadata": {
    "collapsed": true
   },
   "outputs": [],
   "source": [
    "#Validation of the regression assumption: Linearity\n",
    "#As you can see in the above graph the residuals are very small\n",
    "#residuals are randomly spread around the 0.00 residuals\n",
    "#hence, this depicts that the linearity assumption is validated\n",
    "\n",
    "#Validation of the regression assumption: Test of equal variance (homoscedasticity)\n",
    "#Further, As we can see from the plot (above in case of test of linearity), \n",
    "#there is there no significant difference in the variation of the residuals \n",
    "#for different levels of the independent variable’s values. \n",
    "#Hence, we consider that the test of equal variance of the distribution\n",
    "#of the response variable as passed"
   ]
  },
  {
   "cell_type": "code",
   "execution_count": 15,
   "metadata": {},
   "outputs": [
    {
     "data": {
      "image/png": "[encoded data removed]",
      "text/plain": [
       "<matplotlib.figure.Figure at 0x1f10ff83da0>"
      ]
     },
     "metadata": {},
     "output_type": "display_data"
    }
   ],
   "source": [
    "#creating the scatter plot between response variable\n",
    "#actual values and independent variable actual values\n",
    "plt.scatter(df.Sales_Effort, df.Product_Sales)\n",
    "plt.xlabel(\"Sales_Effort\")\n",
    "plt.ylabel(\"Product_Sales\")\n",
    "plt.draw()\n",
    "plt.show()"
   ]
  },
  {
   "cell_type": "code",
   "execution_count": 16,
   "metadata": {
    "collapsed": true
   },
   "outputs": [],
   "source": [
    "#Alternative method for validation of the assumption of linearity\n",
    "#The above graph also shows the linear relationship between two variables clearly"
   ]
  },
  {
   "cell_type": "code",
   "execution_count": 17,
   "metadata": {},
   "outputs": [
    {
     "data": {
      "image/png": "[encoded data removed]",
      "text/plain": [
       "<matplotlib.figure.Figure at 0x1f110382860>"
      ]
     },
     "metadata": {},
     "output_type": "display_data"
    }
   ],
   "source": [
    "#plotting for the validaton of normal distribution of the residuals\n",
    "import scipy\n",
    "from scipy import stats\n",
    "stats.probplot(y-predicted_full, plot=plt)\n",
    "plt.show()"
   ]
  },
  {
   "cell_type": "code",
   "execution_count": 18,
   "metadata": {
    "collapsed": true
   },
   "outputs": [],
   "source": [
    "#The above plot shows the normal distribution of the\n",
    "#residuals as residuals are almost on the 45 degree straight\n",
    "#line"
   ]
  },
  {
   "cell_type": "code",
   "execution_count": 19,
   "metadata": {},
   "outputs": [
    {
     "name": "stdout",
     "output_type": "stream",
     "text": [
      "                            OLS Regression Results                            \n",
      "==============================================================================\n",
      "Dep. Variable:          Product_Sales   R-squared:                       0.999\n",
      "Model:                            OLS   Adj. R-squared:                  0.999\n",
      "Method:                 Least Squares   F-statistic:                 1.530e+04\n",
      "Date:                Wed, 10 Aug 2022   Prob (F-statistic):           4.42e-29\n",
      "Time:                        14:30:20   Log-Likelihood:                 17.877\n",
      "No. Observations:                  21   AIC:                            -31.75\n",
      "Df Residuals:                      19   BIC:                            -29.66\n",
      "Df Model:                           1                                         \n",
      "Covariance Type:            nonrobust                                         \n",
      "================================================================================\n",
      "                   coef    std err          t      P>|t|      [0.025      0.975]\n",
      "--------------------------------------------------------------------------------\n",
      "Intercept        0.0501      0.059      0.856      0.403      -0.072       0.173\n",
      "Sales_Effort     0.0984      0.001    123.703      0.000       0.097       0.100\n",
      "==============================================================================\n",
      "Omnibus:                        1.042   Durbin-Watson:                   1.507\n",
      "Prob(Omnibus):                  0.594   Jarque-Bera (JB):                0.941\n",
      "Skew:                           0.328   Prob(JB):                        0.625\n",
      "Kurtosis:                       2.196   Cond. No.                         182.\n",
      "==============================================================================\n",
      "\n",
      "Warnings:\n",
      "[1] Standard Errors assume that the covariance matrix of the errors is correctly specified.\n"
     ]
    }
   ],
   "source": [
    "#generate linear regression model using statsmodels package\n",
    "#this will also enable us to test for the regression \n",
    "#assumption related to autocorrelation\n",
    "from statsmodels.formula.api import ols\n",
    "#fit linear regression model\n",
    "Line_Reg_1 = ols('Product_Sales ~ Sales_Effort', data=df).fit()\n",
    "#print model summary\n",
    "print(Line_Reg_1.summary())"
   ]
  },
  {
   "cell_type": "code",
   "execution_count": 20,
   "metadata": {
    "collapsed": true
   },
   "outputs": [],
   "source": [
    "#Model Validation:\n",
    "#Also as the P > |T| is 0.000 for the predictor it confirms the significance\n",
    "#of the predictor to the model.  Similarly as Prob (F-statistic) is also\n",
    "#very very small (negligible) the model explains the relationship between\n",
    "#the response variable and the predictor variable well"
   ]
  },
  {
   "cell_type": "code",
   "execution_count": 21,
   "metadata": {
    "collapsed": true
   },
   "outputs": [],
   "source": [
    "#Validation of regression assumption: No autocorrelation i.e., test of independence\n",
    "#of Errors around the regression line\n",
    "#As Durbin-Watson Test above gives a result of ~1.51 which is between 1.5 and 2.5\n",
    "#the fact that there no autocorrelation is proved.  Anyhow, we also know from\n",
    "#our data collection effort that each data point is related to differnet person's\n",
    "#effort"
   ]
  },
  {
   "cell_type": "code",
   "execution_count": 28,
   "metadata": {},
   "outputs": [
    {
     "name": "stdout",
     "output_type": "stream",
     "text": [
      "0    10.973073\n",
      "1     7.824101\n",
      "dtype: float64\n"
     ]
    }
   ],
   "source": [
    "#Now let us create a dataframe with predictors to check that\n",
    "#the model predicts the values of response variables accurately \n",
    "#(even though we have tested the model against the test data\n",
    "data = {'Sales_Effort': [111, 79]}\n",
    "df_new_predictors = pd.DataFrame(data=data)\n",
    "predicted_resp_variable = Line_Reg_1.predict(df_new_predictors)\n",
    "print(predicted_resp_variable)"
   ]
  },
  {
   "cell_type": "code",
   "execution_count": 29,
   "metadata": {
    "collapsed": true
   },
   "outputs": [],
   "source": [
    "#As you can see the predicted values of response variables\n",
    "#are almost near in value to the actual values"
   ]
  }
 ],
 "metadata": {
  "kernelspec": {
   "display_name": "Python 3",
   "language": "python",
   "name": "python3"
  },
  "language_info": {
   "codemirror_mode": {
    "name": "ipython",
    "version": 3
   },
   "file_extension": ".py",
   "mimetype": "text/x-python",
   "name": "python",
   "nbconvert_exporter": "python",
   "pygments_lexer": "ipython3",
   "version": "3.6.3"
  }
 },
 "nbformat": 4,
 "nbformat_minor": 2
}
