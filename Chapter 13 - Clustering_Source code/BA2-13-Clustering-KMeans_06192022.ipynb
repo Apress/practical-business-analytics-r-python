{
 "cells": [
  {
   "cell_type": "code",
   "execution_count": 62,
   "id": "38a98337",
   "metadata": {},
   "outputs": [],
   "source": [
    "#####################################################\n",
    "#   K-Measn Clustering                              #\n",
    "#   Library and poackage: cluster()                 #\n",
    "#   Dataset: Students Grade Assignment              #\n",
    "#   Data has 5 columns, StudentID, Quiz 1, Quiz 2,  #            #\n",
    "#   Quiz3,QUiz4 and Quiz5                           #\n",
    "#   Date:   June 18, 2022                           #\n",
    "#   Objective:   The K-Means clustering model aims     #\n",
    "#   to create clusters based on students' performance  #  \n",
    "#   in the different components of assignments         #\n",
    "#   and exams - Quiz1, Quiz2, Quiz3, Quiz4 \n",
    "#   and QUiz5                            # \n",
    "#                                                   #\n",
    "#####################################################"
   ]
  },
  {
   "cell_type": "code",
   "execution_count": 3,
   "id": "3954a57d",
   "metadata": {},
   "outputs": [],
   "source": [
    "#Step 1: Import all the libraries required to the jupyter environment"
   ]
  },
  {
   "cell_type": "code",
   "execution_count": 29,
   "id": "ca08b19c",
   "metadata": {},
   "outputs": [],
   "source": [
    "from __future__ import absolute_import, division, print_function\n",
    "import codecs\n",
    "import glob\n",
    "import logging\n",
    "import multiprocessing\n",
    "import os\n",
    "import pprint\n",
    "import re\n",
    "\n",
    "##Load pandas and numpy library \n",
    "import pandas as pd\n",
    "import numpy as np\n",
    "\n",
    "\n",
    "## Loading plot libraries\n",
    "%matplotlib inline\n",
    "import matplotlib.pyplot as plt\n",
    "from pandas.plotting import scatter_matrix\n",
    "from sklearn.metrics.pairwise import cosine_similarity\n",
    "from scipy.spatial.distance import cosine\n",
    "import sklearn as sk\n",
    "import matplotlib.pyplot as plt\n",
    "import seaborn as sns\n",
    "\n",
    "##Sklearn clustering libraires\n",
    "from sklearn import cluster\n",
    "from scipy.cluster import hierarchy\n",
    "\n",
    "# Sklearn scaler() function to scale data\n",
    "from sklearn.preprocessing import MinMaxScaler\n",
    "from sklearn.preprocessing import StandardScaler\n",
    "# TO learn more about the function, please refer to sklearn() documentation\n",
    "#https://scikit-learn.org/stable/modules/generated/sklearn.preprocessing.MinMaxScaler.html\n",
    "#https://scikit-learn.org/stable/modules/generated/sklearn.preprocessing.StandardScaler.html\n",
    "#https://scikit-learn.org/stable/modules/clustering.html"
   ]
  },
  {
   "cell_type": "code",
   "execution_count": 7,
   "id": "44d3b7b8",
   "metadata": {},
   "outputs": [],
   "source": [
    "#Step 2: Reading Data"
   ]
  },
  {
   "cell_type": "code",
   "execution_count": 8,
   "id": "b38ee7ac",
   "metadata": {},
   "outputs": [
    {
     "data": {
      "text/html": [
       "<div>\n",
       "<style scoped>\n",
       "    .dataframe tbody tr th:only-of-type {\n",
       "        vertical-align: middle;\n",
       "    }\n",
       "\n",
       "    .dataframe tbody tr th {\n",
       "        vertical-align: top;\n",
       "    }\n",
       "\n",
       "    .dataframe thead th {\n",
       "        text-align: right;\n",
       "    }\n",
       "</style>\n",
       "<table border=\"1\" class=\"dataframe\">\n",
       "  <thead>\n",
       "    <tr style=\"text-align: right;\">\n",
       "      <th></th>\n",
       "      <th>StudentID</th>\n",
       "      <th>Quiz1</th>\n",
       "      <th>Quiz2</th>\n",
       "      <th>Quiz3</th>\n",
       "      <th>Quiz4</th>\n",
       "      <th>Quiz5</th>\n",
       "    </tr>\n",
       "  </thead>\n",
       "  <tbody>\n",
       "    <tr>\n",
       "      <th>0</th>\n",
       "      <td>20000001</td>\n",
       "      <td>10</td>\n",
       "      <td>10.0</td>\n",
       "      <td>27.0</td>\n",
       "      <td>95</td>\n",
       "      <td>8</td>\n",
       "    </tr>\n",
       "    <tr>\n",
       "      <th>1</th>\n",
       "      <td>20000002</td>\n",
       "      <td>8</td>\n",
       "      <td>3.0</td>\n",
       "      <td>23.5</td>\n",
       "      <td>75</td>\n",
       "      <td>9</td>\n",
       "    </tr>\n",
       "    <tr>\n",
       "      <th>2</th>\n",
       "      <td>20000003</td>\n",
       "      <td>14</td>\n",
       "      <td>15.0</td>\n",
       "      <td>28.0</td>\n",
       "      <td>70</td>\n",
       "      <td>8</td>\n",
       "    </tr>\n",
       "    <tr>\n",
       "      <th>3</th>\n",
       "      <td>20000004</td>\n",
       "      <td>12</td>\n",
       "      <td>16.5</td>\n",
       "      <td>28.0</td>\n",
       "      <td>100</td>\n",
       "      <td>9</td>\n",
       "    </tr>\n",
       "    <tr>\n",
       "      <th>4</th>\n",
       "      <td>20000005</td>\n",
       "      <td>13</td>\n",
       "      <td>11.5</td>\n",
       "      <td>21.5</td>\n",
       "      <td>95</td>\n",
       "      <td>9</td>\n",
       "    </tr>\n",
       "  </tbody>\n",
       "</table>\n",
       "</div>"
      ],
      "text/plain": [
       "   StudentID  Quiz1  Quiz2  Quiz3  Quiz4  Quiz5\n",
       "0   20000001     10   10.0   27.0     95      8\n",
       "1   20000002      8    3.0   23.5     75      9\n",
       "2   20000003     14   15.0   28.0     70      8\n",
       "3   20000004     12   16.5   28.0    100      9\n",
       "4   20000005     13   11.5   21.5     95      9"
      ]
     },
     "execution_count": 8,
     "metadata": {},
     "output_type": "execute_result"
    }
   ],
   "source": [
    "#Set the working directory where the dataset is stored before reading the dataset\n",
    "data_dir = 'E:/Umesh-MAY2022/Personal-May2022/BA2ndEdition/2ndEdition/Book Chapters/Chapter 13 - Clustering/scripts'\n",
    "os.chdir(data_dir)\n",
    "grades_df = pd.read_csv(\"grades.csv\")\n",
    "grades_df.head()"
   ]
  },
  {
   "cell_type": "code",
   "execution_count": 13,
   "id": "39ebb6a5",
   "metadata": {},
   "outputs": [
    {
     "data": {
      "text/html": [
       "<div>\n",
       "<style scoped>\n",
       "    .dataframe tbody tr th:only-of-type {\n",
       "        vertical-align: middle;\n",
       "    }\n",
       "\n",
       "    .dataframe tbody tr th {\n",
       "        vertical-align: top;\n",
       "    }\n",
       "\n",
       "    .dataframe thead th {\n",
       "        text-align: right;\n",
       "    }\n",
       "</style>\n",
       "<table border=\"1\" class=\"dataframe\">\n",
       "  <thead>\n",
       "    <tr style=\"text-align: right;\">\n",
       "      <th></th>\n",
       "      <th>Quiz1</th>\n",
       "      <th>Quiz2</th>\n",
       "      <th>Quiz3</th>\n",
       "      <th>Quiz4</th>\n",
       "      <th>Quiz5</th>\n",
       "    </tr>\n",
       "  </thead>\n",
       "  <tbody>\n",
       "    <tr>\n",
       "      <th>0</th>\n",
       "      <td>0.666667</td>\n",
       "      <td>0.20</td>\n",
       "      <td>0.727273</td>\n",
       "      <td>0.9</td>\n",
       "      <td>0.0</td>\n",
       "    </tr>\n",
       "    <tr>\n",
       "      <th>1</th>\n",
       "      <td>0.533333</td>\n",
       "      <td>0.06</td>\n",
       "      <td>0.515152</td>\n",
       "      <td>0.5</td>\n",
       "      <td>0.5</td>\n",
       "    </tr>\n",
       "    <tr>\n",
       "      <th>2</th>\n",
       "      <td>0.933333</td>\n",
       "      <td>0.30</td>\n",
       "      <td>0.787879</td>\n",
       "      <td>0.4</td>\n",
       "      <td>0.0</td>\n",
       "    </tr>\n",
       "    <tr>\n",
       "      <th>3</th>\n",
       "      <td>0.800000</td>\n",
       "      <td>0.33</td>\n",
       "      <td>0.787879</td>\n",
       "      <td>1.0</td>\n",
       "      <td>0.5</td>\n",
       "    </tr>\n",
       "    <tr>\n",
       "      <th>4</th>\n",
       "      <td>0.866667</td>\n",
       "      <td>0.23</td>\n",
       "      <td>0.393939</td>\n",
       "      <td>0.9</td>\n",
       "      <td>0.5</td>\n",
       "    </tr>\n",
       "  </tbody>\n",
       "</table>\n",
       "</div>"
      ],
      "text/plain": [
       "      Quiz1  Quiz2     Quiz3  Quiz4  Quiz5\n",
       "0  0.666667   0.20  0.727273    0.9    0.0\n",
       "1  0.533333   0.06  0.515152    0.5    0.5\n",
       "2  0.933333   0.30  0.787879    0.4    0.0\n",
       "3  0.800000   0.33  0.787879    1.0    0.5\n",
       "4  0.866667   0.23  0.393939    0.9    0.5"
      ]
     },
     "execution_count": 13,
     "metadata": {},
     "output_type": "execute_result"
    }
   ],
   "source": [
    "#Step 3: Data exploration, data preparation\n",
    "##Removing 'StudentID' column, that is not required for the clustering analysis\n",
    "# Scale all the variables\n",
    "grades_df2 = grades_df.drop('StudentID',axis=1)\n",
    "scaler = MinMaxScaler()\n",
    "grades_scaled = pd.DataFrame(scaler.fit_transform(grades_df2),\n",
    "                             columns=grades_df2.columns)\n",
    "grades_scaled.head()"
   ]
  },
  {
   "cell_type": "code",
   "execution_count": 20,
   "id": "66a017cc",
   "metadata": {},
   "outputs": [
    {
     "data": {
      "text/html": [
       "<div>\n",
       "<style scoped>\n",
       "    .dataframe tbody tr th:only-of-type {\n",
       "        vertical-align: middle;\n",
       "    }\n",
       "\n",
       "    .dataframe tbody tr th {\n",
       "        vertical-align: top;\n",
       "    }\n",
       "\n",
       "    .dataframe thead th {\n",
       "        text-align: right;\n",
       "    }\n",
       "</style>\n",
       "<table border=\"1\" class=\"dataframe\">\n",
       "  <thead>\n",
       "    <tr style=\"text-align: right;\">\n",
       "      <th></th>\n",
       "      <th>Cluster ID</th>\n",
       "    </tr>\n",
       "    <tr>\n",
       "      <th>StudentID</th>\n",
       "      <th></th>\n",
       "    </tr>\n",
       "  </thead>\n",
       "  <tbody>\n",
       "    <tr>\n",
       "      <th>20000001</th>\n",
       "      <td>2</td>\n",
       "    </tr>\n",
       "    <tr>\n",
       "      <th>20000002</th>\n",
       "      <td>0</td>\n",
       "    </tr>\n",
       "    <tr>\n",
       "      <th>20000003</th>\n",
       "      <td>3</td>\n",
       "    </tr>\n",
       "    <tr>\n",
       "      <th>20000004</th>\n",
       "      <td>1</td>\n",
       "    </tr>\n",
       "    <tr>\n",
       "      <th>20000005</th>\n",
       "      <td>0</td>\n",
       "    </tr>\n",
       "    <tr>\n",
       "      <th>20000006</th>\n",
       "      <td>0</td>\n",
       "    </tr>\n",
       "    <tr>\n",
       "      <th>20000007</th>\n",
       "      <td>0</td>\n",
       "    </tr>\n",
       "    <tr>\n",
       "      <th>20000008</th>\n",
       "      <td>3</td>\n",
       "    </tr>\n",
       "    <tr>\n",
       "      <th>20000009</th>\n",
       "      <td>2</td>\n",
       "    </tr>\n",
       "    <tr>\n",
       "      <th>20000010</th>\n",
       "      <td>2</td>\n",
       "    </tr>\n",
       "  </tbody>\n",
       "</table>\n",
       "</div>"
      ],
      "text/plain": [
       "           Cluster ID\n",
       "StudentID            \n",
       "20000001            2\n",
       "20000002            0\n",
       "20000003            3\n",
       "20000004            1\n",
       "20000005            0\n",
       "20000006            0\n",
       "20000007            0\n",
       "20000008            3\n",
       "20000009            2\n",
       "20000010            2"
      ]
     },
     "execution_count": 20,
     "metadata": {},
     "output_type": "execute_result"
    }
   ],
   "source": [
    "# Create the K-Means cluster model\n",
    "# From the model, identify which studentID is in which cluster\n",
    "kmm_model = cluster.KMeans(n_clusters=5, \n",
    "                           max_iter=50, \n",
    "                           n_init=5,\n",
    "                          random_state = 10)\n",
    "kmm_model.fit(grades_scaled)\n",
    "grades_clusters = pd.DataFrame(kmm_model.labels_ ,\n",
    "                              columns=['Cluster ID'],\n",
    "                              index = grades_df.StudentID)\n",
    "grades_clusters.head(10)"
   ]
  },
  {
   "cell_type": "code",
   "execution_count": 23,
   "id": "a39e624a",
   "metadata": {},
   "outputs": [
    {
     "data": {
      "text/html": [
       "<div>\n",
       "<style scoped>\n",
       "    .dataframe tbody tr th:only-of-type {\n",
       "        vertical-align: middle;\n",
       "    }\n",
       "\n",
       "    .dataframe tbody tr th {\n",
       "        vertical-align: top;\n",
       "    }\n",
       "\n",
       "    .dataframe thead th {\n",
       "        text-align: right;\n",
       "    }\n",
       "</style>\n",
       "<table border=\"1\" class=\"dataframe\">\n",
       "  <thead>\n",
       "    <tr style=\"text-align: right;\">\n",
       "      <th></th>\n",
       "      <th>Quiz1</th>\n",
       "      <th>Quiz2</th>\n",
       "      <th>Quiz3</th>\n",
       "      <th>Quiz4</th>\n",
       "      <th>Quiz5</th>\n",
       "    </tr>\n",
       "  </thead>\n",
       "  <tbody>\n",
       "    <tr>\n",
       "      <th>0</th>\n",
       "      <td>0.608696</td>\n",
       "      <td>0.264348</td>\n",
       "      <td>0.565217</td>\n",
       "      <td>0.752174</td>\n",
       "      <td>5.217391e-01</td>\n",
       "    </tr>\n",
       "    <tr>\n",
       "      <th>1</th>\n",
       "      <td>0.837500</td>\n",
       "      <td>0.393750</td>\n",
       "      <td>0.734848</td>\n",
       "      <td>0.931250</td>\n",
       "      <td>7.187500e-01</td>\n",
       "    </tr>\n",
       "    <tr>\n",
       "      <th>2</th>\n",
       "      <td>0.852482</td>\n",
       "      <td>0.306596</td>\n",
       "      <td>0.710509</td>\n",
       "      <td>0.885106</td>\n",
       "      <td>1.110223e-16</td>\n",
       "    </tr>\n",
       "    <tr>\n",
       "      <th>3</th>\n",
       "      <td>0.685714</td>\n",
       "      <td>0.283333</td>\n",
       "      <td>0.474747</td>\n",
       "      <td>0.395238</td>\n",
       "      <td>-2.775558e-17</td>\n",
       "    </tr>\n",
       "    <tr>\n",
       "      <th>4</th>\n",
       "      <td>0.497222</td>\n",
       "      <td>0.326250</td>\n",
       "      <td>0.540404</td>\n",
       "      <td>0.895833</td>\n",
       "      <td>-2.775558e-17</td>\n",
       "    </tr>\n",
       "  </tbody>\n",
       "</table>\n",
       "</div>"
      ],
      "text/plain": [
       "      Quiz1     Quiz2     Quiz3     Quiz4         Quiz5\n",
       "0  0.608696  0.264348  0.565217  0.752174  5.217391e-01\n",
       "1  0.837500  0.393750  0.734848  0.931250  7.187500e-01\n",
       "2  0.852482  0.306596  0.710509  0.885106  1.110223e-16\n",
       "3  0.685714  0.283333  0.474747  0.395238 -2.775558e-17\n",
       "4  0.497222  0.326250  0.540404  0.895833 -2.775558e-17"
      ]
     },
     "execution_count": 23,
     "metadata": {},
     "output_type": "execute_result"
    }
   ],
   "source": [
    "#Print the cluster centroids\n",
    "pd.DataFrame(kmm_model.cluster_centers_, \n",
    "             columns=grades_df2.columns)"
   ]
  },
  {
   "cell_type": "code",
   "execution_count": 25,
   "id": "00d44615",
   "metadata": {},
   "outputs": [
    {
     "name": "stderr",
     "output_type": "stream",
     "text": [
      "C:\\Users\\u.hodeghatta\\Anaconda3\\lib\\site-packages\\sklearn\\cluster\\_kmeans.py:881: UserWarning: KMeans is known to have a memory leak on Windows with MKL, when there are less chunks than available threads. You can avoid it by setting the environment variable OMP_NUM_THREADS=1.\n",
      "  warnings.warn(\n"
     ]
    },
    {
     "data": {
      "image/png": "[encoded data removed]",
      "text/plain": [
       "<Figure size 432x288 with 1 Axes>"
      ]
     },
     "metadata": {
      "needs_background": "light"
     },
     "output_type": "display_data"
    }
   ],
   "source": [
    "#To determine the value of K, number of clusters in the data, \n",
    "# We can use elbow method or \"silhouette\" method\n",
    "# We will use the \"Elbow\" method\n",
    "# we use k-values from 1 to 10 and compute their \n",
    "# corresponding sum-of-squared errors (SSE) \n",
    "# as shown in the example below. \n",
    "# Find the \"elbow\" from the plot of SSE versus \n",
    "# number of clusters \n",
    "def k_elbowFunc(ks, data_df):\n",
    "    error = []\n",
    "    for k in ks:\n",
    "        kmm_mods = cluster.KMeans(n_clusters=k, \n",
    "                           max_iter=50, \n",
    "                           n_init=5,\n",
    "                          random_state = 10)\n",
    "        kmm_mods.fit(data_df)\n",
    "        error.append(kmm_mods.inertia_)\n",
    "    plt.plot(ks, error)\n",
    "    plt.xlabel('Number of Clusters')\n",
    "    plt.ylabel('error SSE')\n",
    "\n",
    "kmm_values = [1,2,3,4,5,6,7,8,9,10]\n",
    "k_elbowFunc(kmm_values, grades_scaled)"
   ]
  },
  {
   "cell_type": "code",
   "execution_count": 89,
   "id": "56695cd4",
   "metadata": {},
   "outputs": [
    {
     "data": {
      "text/html": [
       "<div>\n",
       "<style scoped>\n",
       "    .dataframe tbody tr th:only-of-type {\n",
       "        vertical-align: middle;\n",
       "    }\n",
       "\n",
       "    .dataframe tbody tr th {\n",
       "        vertical-align: top;\n",
       "    }\n",
       "\n",
       "    .dataframe thead th {\n",
       "        text-align: right;\n",
       "    }\n",
       "</style>\n",
       "<table border=\"1\" class=\"dataframe\">\n",
       "  <thead>\n",
       "    <tr style=\"text-align: right;\">\n",
       "      <th></th>\n",
       "      <th>Cluster ID</th>\n",
       "    </tr>\n",
       "    <tr>\n",
       "      <th>StudentID</th>\n",
       "      <th></th>\n",
       "    </tr>\n",
       "  </thead>\n",
       "  <tbody>\n",
       "    <tr>\n",
       "      <th>20000001</th>\n",
       "      <td>0</td>\n",
       "    </tr>\n",
       "    <tr>\n",
       "      <th>20000002</th>\n",
       "      <td>1</td>\n",
       "    </tr>\n",
       "    <tr>\n",
       "      <th>20000003</th>\n",
       "      <td>0</td>\n",
       "    </tr>\n",
       "    <tr>\n",
       "      <th>20000004</th>\n",
       "      <td>2</td>\n",
       "    </tr>\n",
       "    <tr>\n",
       "      <th>20000005</th>\n",
       "      <td>2</td>\n",
       "    </tr>\n",
       "    <tr>\n",
       "      <th>20000006</th>\n",
       "      <td>2</td>\n",
       "    </tr>\n",
       "    <tr>\n",
       "      <th>20000007</th>\n",
       "      <td>2</td>\n",
       "    </tr>\n",
       "    <tr>\n",
       "      <th>20000008</th>\n",
       "      <td>1</td>\n",
       "    </tr>\n",
       "    <tr>\n",
       "      <th>20000009</th>\n",
       "      <td>0</td>\n",
       "    </tr>\n",
       "    <tr>\n",
       "      <th>20000010</th>\n",
       "      <td>0</td>\n",
       "    </tr>\n",
       "  </tbody>\n",
       "</table>\n",
       "</div>"
      ],
      "text/plain": [
       "           Cluster ID\n",
       "StudentID            \n",
       "20000001            0\n",
       "20000002            1\n",
       "20000003            0\n",
       "20000004            2\n",
       "20000005            2\n",
       "20000006            2\n",
       "20000007            2\n",
       "20000008            1\n",
       "20000009            0\n",
       "20000010            0"
      ]
     },
     "execution_count": 89,
     "metadata": {},
     "output_type": "execute_result"
    }
   ],
   "source": [
    "# Create the K-Means cluster model with optimized K =3\n",
    "# From the model, identify which studentID is in which cluster\n",
    "kmm_model_k3 = cluster.KMeans(n_clusters=3, \n",
    "                           max_iter=50, \n",
    "                           n_init=5,\n",
    "                          random_state = 10)\n",
    "kmm_model_k3.fit(grades_scaled)\n",
    "grades_clusters = pd.DataFrame(kmm_model_k3.labels_ ,\n",
    "                              columns=['Cluster ID'],\n",
    "                              index = grades_df.StudentID)\n",
    "grades_clusters.head(10)"
   ]
  },
  {
   "cell_type": "code",
   "execution_count": 90,
   "id": "d665b9ab",
   "metadata": {},
   "outputs": [
    {
     "data": {
      "text/plain": [
       "<AxesSubplot:xlabel='pca_1', ylabel='pca_2'>"
      ]
     },
     "execution_count": 90,
     "metadata": {},
     "output_type": "execute_result"
    },
    {
     "data": {
      "image/png": "[encoded data removed]",
      "text/plain": [
       "<Figure size 432x288 with 1 Axes>"
      ]
     },
     "metadata": {
      "needs_background": "light"
     },
     "output_type": "display_data"
    }
   ],
   "source": [
    "from sklearn.manifold import MDS\n",
    "import seaborn as sns\n",
    "pca_embed = MDS(n_components=2)\n",
    "pca_mds = pd.DataFrame(pca_embed.fit_transform(grades_scaled),\n",
    "             columns = ['pca_1','pca_2'])\n",
    "\n",
    "pca_mds['K_cluster'] = kmm_model_k3.predict(grades_scaled)\n",
    "\n",
    "sns.scatterplot(data=pca_mds,x = \"pca_1\",y=\"pca_2\",hue=\"K_cluster\")"
   ]
  },
  {
   "cell_type": "code",
   "execution_count": 41,
   "id": "4bd7397f",
   "metadata": {},
   "outputs": [],
   "source": [
    " #Hierarchical Clustering\n",
    "# Create clustering using Single linkage"
   ]
  },
  {
   "cell_type": "code",
   "execution_count": 40,
   "id": "9c68ac50",
   "metadata": {},
   "outputs": [
    {
     "data": {
      "image/png": "[encoded data removed]",
      "text/plain": [
       "<Figure size 432x288 with 1 Axes>"
      ]
     },
     "metadata": {
      "needs_background": "light"
     },
     "output_type": "display_data"
    }
   ],
   "source": [
    "cluster_hier  = hierarchy.linkage(grades_scaled,\n",
    "                                  'single')\n",
    "cluster_dendo = hierarchy.dendrogram(cluster_hier,\n",
    "                                    orientation='right',\n",
    "                                    labels = grades_df['StudentID'].to_list())"
   ]
  },
  {
   "cell_type": "code",
   "execution_count": 42,
   "id": "f9530155",
   "metadata": {},
   "outputs": [
    {
     "data": {
      "image/png": "[encoded data removed]",
      "text/plain": [
       "<Figure size 432x288 with 1 Axes>"
      ]
     },
     "metadata": {
      "needs_background": "light"
     },
     "output_type": "display_data"
    }
   ],
   "source": [
    "#Hierarchical Clustering\n",
    "# Create clustering using \"complete linkage\"\n",
    "cluster_hier  = hierarchy.linkage(grades_scaled,\n",
    "                                  'complete')\n",
    "cluster_dendo = hierarchy.dendrogram(cluster_hier,\n",
    "                                    orientation='right',\n",
    "                                    labels = grades_df['StudentID'].to_list())\n"
   ]
  },
  {
   "cell_type": "code",
   "execution_count": 57,
   "id": "cbd9cfb6",
   "metadata": {},
   "outputs": [
    {
     "data": {
      "image/png": "[encoded data removed]",
      "text/plain": [
       "<Figure size 432x288 with 1 Axes>"
      ]
     },
     "metadata": {
      "needs_background": "light"
     },
     "output_type": "display_data"
    }
   ],
   "source": [
    "#Hierarchical Clustering\n",
    "# Create clustering using \"Group Average linkage\"\n",
    "cluster_hier  = hierarchy.linkage(grades_scaled,\n",
    "                                  'average')\n",
    "cluster_dendo = hierarchy.dendrogram(cluster_hier,\n",
    "                                    orientation='left',\n",
    "            labels = grades_df['StudentID'].to_list())\n"
   ]
  },
  {
   "cell_type": "code",
   "execution_count": 64,
   "id": "e45533ba",
   "metadata": {},
   "outputs": [
    {
     "data": {
      "image/png": "[encoded data removed]",
      "text/plain": [
       "<Figure size 432x288 with 1 Axes>"
      ]
     },
     "metadata": {
      "needs_background": "light"
     },
     "output_type": "display_data"
    }
   ],
   "source": [
    "#Hierarchical Clustering\n",
    "# Create clustering using \"Group Average linkage\"\n",
    "##To have a better view, reduce X, Y axis\n",
    "grades_scaled_20 = grades_scaled[0:20]\n",
    "cluster_hier_20  = hierarchy.linkage(grades_scaled_20,\n",
    "                                  'average')\n",
    "cluster_dendo = hierarchy.dendrogram(cluster_hier_20,\n",
    "                                    orientation='left',\n",
    "            labels = grades_df['StudentID'].to_list()[0:20])\n"
   ]
  },
  {
   "cell_type": "code",
   "execution_count": 92,
   "id": "4c9eb55e",
   "metadata": {},
   "outputs": [],
   "source": [
    "!pandoc BA2-13-Clustering-KMeans_06192022.ipynb -s -o Kmeans_Clustering_WordFile.docx"
   ]
  },
  {
   "cell_type": "code",
   "execution_count": null,
   "id": "29c9563a",
   "metadata": {},
   "outputs": [],
   "source": []
  },
  {
   "cell_type": "code",
   "execution_count": null,
   "id": "4116aa72",
   "metadata": {},
   "outputs": [],
   "source": []
  },
  {
   "cell_type": "code",
   "execution_count": null,
   "id": "3cfd7d14",
   "metadata": {},
   "outputs": [],
   "source": []
  }
 ],
 "metadata": {
  "kernelspec": {
   "display_name": "Python 3",
   "language": "python",
   "name": "python3"
  },
  "language_info": {
   "codemirror_mode": {
    "name": "ipython",
    "version": 3
   },
   "file_extension": ".py",
   "mimetype": "text/x-python",
   "name": "python",
   "nbconvert_exporter": "python",
   "pygments_lexer": "ipython3",
   "version": "3.8.8"
  }
 },
 "nbformat": 4,
 "nbformat_minor": 5
}
